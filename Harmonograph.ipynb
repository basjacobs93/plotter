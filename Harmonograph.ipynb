{
 "cells": [
  {
   "cell_type": "markdown",
   "metadata": {},
   "source": [
    "Source: https://aschinchon.wordpress.com/2014/10/13/beautiful-curves-the-harmonograph/"
   ]
  },
  {
   "cell_type": "code",
   "execution_count": null,
   "metadata": {
    "collapsed": true
   },
   "outputs": [],
   "source": [
    "import re\n",
    "import pandas as pd\n",
    "\n",
    "import numpy as np\n",
    "import math\n",
    "import serial\n",
    "import pygame\n",
    "import time\n",
    "from pygame.locals import QUIT\n",
    "\n",
    "import matplotlib.pyplot as plt\n",
    "\n",
    "import shapes\n",
    "\n",
    "%matplotlib inline"
   ]
  },
  {
   "cell_type": "markdown",
   "metadata": {},
   "source": [
    "Create the harmanograph"
   ]
  },
  {
   "cell_type": "code",
   "execution_count": null,
   "metadata": {
    "collapsed": true
   },
   "outputs": [],
   "source": [
    "# define trajectories\n",
    "def xt(t):\n",
    "    return np.exp(-d1*t)*np.sin(t*f1+p1)+np.exp(-d2*t)*np.sin(t*f2+p2)\n",
    "\n",
    "def yt(t):\n",
    "    return np.exp(-d3*t)*np.sin(t*f3+p3)+np.exp(-d4*t)*np.sin(t*f4+p4)"
   ]
  },
  {
   "cell_type": "code",
   "execution_count": null,
   "metadata": {
    "scrolled": true
   },
   "outputs": [],
   "source": [
    "# draw the necessary random numbers\n",
    "f1, f2, f3, f4 = np.random.randint(2, 4, size=4) + (np.random.random(size=4)-0.5) / 10\n",
    "d1, d2, d3, d4 = np.random.uniform(0, 1e-02, 4)\n",
    "p1, p2, p3, p4 = np.random.uniform(0, np.pi, 4)\n",
    "\n",
    "# define the space and follow the trajectory\n",
    "t = np.linspace(1, 100, num = 10**4)\n",
    "xs = xt(t)\n",
    "ys = yt(t)\n",
    "\n",
    "# rescaling to fit on a piece of paper\n",
    "xs = (xs - min(xs))\n",
    "ys = (ys - min(ys))\n",
    "xs = xs * 70 / max(xs) + 20\n",
    "ys = ys * 70 / max(ys) + 20\n",
    "\n",
    "# show result\n",
    "plt.plot(xs, ys)"
   ]
  },
  {
   "cell_type": "markdown",
   "metadata": {},
   "source": [
    "Define the harmanograph in terms of points and lines"
   ]
  },
  {
   "cell_type": "code",
   "execution_count": null,
   "metadata": {
    "collapsed": true
   },
   "outputs": [],
   "source": [
    "pts = [shapes.Point(xs[0], ys[0])] + \\\n",
    "  [shapes.Line(shapes.Point(xs[i], ys[i]), shapes.Point(xs[i+1], ys[i+1])) for i in range(len(xs)-1)]"
   ]
  },
  {
   "cell_type": "markdown",
   "metadata": {},
   "source": [
    "Define functions for sending the result to the plotter"
   ]
  },
  {
   "cell_type": "code",
   "execution_count": null,
   "metadata": {
    "collapsed": true
   },
   "outputs": [],
   "source": [
    "def preview_objs(objs):\n",
    "    pygame.init()\n",
    "\n",
    "    canvas=pygame.display.set_mode((240,170),0,32)\n",
    "\n",
    "    white = (255, 255, 255)\n",
    "    black = (0, 0, 0)\n",
    "\n",
    "    canvas.fill(white)\n",
    "\n",
    "    for obj in objs:\n",
    "        obj.draw(canvas, black)\n",
    "\n",
    "    while True:\n",
    "        for event in pygame.event.get():\n",
    "            if event.type==QUIT:\n",
    "                pygame.quit()\n",
    "                return\n",
    "        pygame.display.update()\n",
    "\n",
    "def wake_up_serial(port, baud):\n",
    "    # Open grbl serial port\n",
    "    s = serial.Serial(port, baud)\n",
    "\n",
    "    # Wake up grbl\n",
    "    s.write(b\"\\r\\n\\r\\n\")\n",
    "    time.sleep(3)   # Wait for grbl to initialize \n",
    "    s.flushInput()  # Flush startup text in serial input\n",
    "\n",
    "    s.write(b\"G21\\n\")   # units = mm\n",
    "    print(s.readline().strip())\n",
    "    s.write(b\"F10000\\n\") # feed rate\n",
    "    print(s.readline().strip())\n",
    "\n",
    "    s.write(b\"S0 M3\\n\") # pen slightly down\n",
    "    print(s.readline().strip())\n",
    "\n",
    "    s.write(b\"S0 M5\\n\") # pen up\n",
    "    print(s.readline().strip())\n",
    "    \n",
    "    return s\n",
    "\n",
    "def objs_to_plotter(objs, s):\n",
    "    # display objects and ask for confirmation\n",
    "    preview_objs(objs)\n",
    "    r = input(\"plot this? [y/N]\")\n",
    "    if r != \"y\":\n",
    "        return\n",
    "    \n",
    "    # if response was 'y', plot it\n",
    "    for obj in objs:\n",
    "        for line in obj.plot_instructions():\n",
    "            l = line + \"\\n\"\n",
    "            print('Sending: ' + l,)\n",
    "            s.write(l.encode('utf-8')) # Send g-code block to grbl\n",
    "            grbl_out = s.readline() # Wait for grbl response with carriage return\n",
    "            print(grbl_out.strip())"
   ]
  },
  {
   "cell_type": "markdown",
   "metadata": {},
   "source": [
    "Send instructions to plotter"
   ]
  },
  {
   "cell_type": "code",
   "execution_count": null,
   "metadata": {},
   "outputs": [],
   "source": [
    "s = wake_up_serial('/dev/tty.wchusbserial1410', 115200)"
   ]
  },
  {
   "cell_type": "code",
   "execution_count": null,
   "metadata": {},
   "outputs": [],
   "source": [
    "objs_to_plotter(pts, s)"
   ]
  },
  {
   "cell_type": "code",
   "execution_count": null,
   "metadata": {},
   "outputs": [],
   "source": [
    "s.write(b\"S0 M5\\n\") # pen up\n",
    "print(s.readline())\n",
    "\n",
    "s.write(b\"G00 X0 Y0\\n\") # go home\n",
    "print(s.readline())\n",
    "\n",
    "time.sleep(3)   # wait for everything to finish \n",
    "\n",
    "# close serial port\n",
    "s.close()"
   ]
  },
  {
   "cell_type": "code",
   "execution_count": null,
   "metadata": {
    "collapsed": true
   },
   "outputs": [],
   "source": []
  }
 ],
 "metadata": {
  "kernelspec": {
   "display_name": "Python 3",
   "language": "python",
   "name": "python3"
  },
  "language_info": {
   "codemirror_mode": {
    "name": "ipython",
    "version": 3
   },
   "file_extension": ".py",
   "mimetype": "text/x-python",
   "name": "python",
   "nbconvert_exporter": "python",
   "pygments_lexer": "ipython3",
   "version": "3.6.5"
  }
 },
 "nbformat": 4,
 "nbformat_minor": 2
}
