{
 "cells": [
  {
   "cell_type": "markdown",
   "metadata": {},
   "source": [
    "SVG Path instructions: https://www.w3schools.com/graphics/svg_path.asp\n",
    "Bezier curves to biarcs: http://dlacko.org/blog/2016/10/19/approximating-bezier-curves-by-biarcs/"
   ]
  },
  {
   "cell_type": "code",
   "execution_count": 1,
   "metadata": {},
   "outputs": [],
   "source": [
    "import re\n",
    "import pandas as pd\n",
    "import numpy as np\n",
    "import math\n",
    "import serial\n",
    "import pygame\n",
    "from pygame.locals import QUIT\n",
    "\n",
    "import shapes\n",
    "import plotter as plt"
   ]
  },
  {
   "cell_type": "code",
   "execution_count": 2,
   "metadata": {
    "collapsed": true
   },
   "outputs": [],
   "source": [
    "# read svg and find paths\n",
    "f = open(\"/Users/Bas/Desktop/picassodog.svg\", \"r\")\n",
    "svg = \"\".join(f.readlines())\n",
    "paths = re.findall(r\"path\\s*d=\\\"(.+?)\\\"\", svg)"
   ]
  },
  {
   "cell_type": "code",
   "execution_count": 3,
   "metadata": {
    "collapsed": true
   },
   "outputs": [],
   "source": [
    "# to keep track of how many parameters an instruction needs \n",
    "num_param = {\"m\": 2, \"l\": 2, \"h\": 1, \"v\": 1, \"z\": 0,\n",
    "            \"c\": 6, \"s\": 4, \"q\": 4, \"t\": 2, \"a\": 7}"
   ]
  },
  {
   "cell_type": "code",
   "execution_count": 4,
   "metadata": {
    "collapsed": true
   },
   "outputs": [],
   "source": [
    "# split svg path into its individual components\n",
    "def split_path(path):\n",
    "    ins = \"\"\n",
    "    \n",
    "    while len(path) > 0:\n",
    "        #print path\n",
    "        \n",
    "        # if the first element is a letter, it is the instruction\n",
    "        if path[0].isalpha():\n",
    "            ins = path[0]\n",
    "            path = path[1:]\n",
    "            path = path.strip()\n",
    "        \n",
    "        # get number of necessary parameters\n",
    "        n = str(num_param[ins.lower()])\n",
    "\n",
    "        # split into part for this instruction and rest\n",
    "        res = re.search(r\"((?:[\\-\\d\\.]+[\\s\\,]*){\"+n+\"})(.*)\", path)\n",
    "        \n",
    "        # collect parameters and the remaining path\n",
    "        params = res.group(1).strip()\n",
    "        path = res.group(2).strip()\n",
    "        \n",
    "        # split parameters into individual numbers\n",
    "        params = re.split(r\"[,\\s]\", params)\n",
    "        params = [float(p) for p in params]\n",
    "        \n",
    "        if ins == \"m\":\n",
    "            ins = \"M\"\n",
    "        \n",
    "        # reorder the parameters\n",
    "        yield [ins] + params[-2:] + params[:-2]"
   ]
  },
  {
   "cell_type": "code",
   "execution_count": 5,
   "metadata": {
    "collapsed": true,
    "scrolled": true
   },
   "outputs": [],
   "source": [
    "def clean_df(df):\n",
    "    # flip y coordinates (we want (0,0) in the bottom left)\n",
    "    df[[\"y\", \"C1y\", \"C2y\"]] = -df[[\"y\", \"C1y\", \"C2y\"]]\n",
    "\n",
    "    # convert everything to absolute paths\n",
    "    df[\"is_abs\"] = df[\"ins\"].apply(lambda x: x.isupper())\n",
    "    df[\"group\"] = df[\"is_abs\"].cumsum()\n",
    "\n",
    "    # add the relative paths to the absolute paths\n",
    "    df[\"P2x\"] = df.groupby(\"group\").x.cumsum()\n",
    "    df[\"P2y\"] = df.groupby(\"group\").y.cumsum()\n",
    "\n",
    "    # shift y coordinate such that the origin is in (0,0)\n",
    "    df.loc[df[\"is_abs\"], \"C1y\"] -= df[\"P2y\"].min()\n",
    "    df.loc[df[\"is_abs\"], \"C2y\"] -= df[\"P2y\"].min()\n",
    "    df[\"P2y\"] -= df[\"P2y\"].min()\n",
    "\n",
    "    # add 'from' coordinates such that every row in the DataFrame is stand-alone\n",
    "    df[\"P1x\"] = df[\"P2x\"].shift(1)\n",
    "    df[\"P1y\"] = df[\"P2y\"].shift(1)\n",
    "    df.loc[0, \"P1x\"] = 0\n",
    "    df.loc[0, \"P1y\"] = 0\n",
    "\n",
    "    # make these absolute as well\n",
    "    df.loc[-df[\"is_abs\"], \"C1x\"] += df[\"P1x\"]\n",
    "    df.loc[-df[\"is_abs\"], \"C1y\"] += df[\"P1y\"]\n",
    "    df.loc[-df[\"is_abs\"], \"C2x\"] += df[\"P1x\"]\n",
    "    df.loc[-df[\"is_abs\"], \"C2y\"] += df[\"P1y\"]\n",
    "\n",
    "    # make sure that these are in uppercase\n",
    "    df[\"ins\"] = df[\"ins\"].str.upper()\n",
    "\n",
    "    df = df[[\"ins\", \"P1x\", \"P1y\", \"P2x\", \"P2y\", \"C1x\", \"C1y\", \"C2x\", \"C2y\"]]\n",
    "    \n",
    "    return df"
   ]
  },
  {
   "cell_type": "code",
   "execution_count": 6,
   "metadata": {
    "collapsed": true
   },
   "outputs": [],
   "source": [
    "def normalize_df(df, xlim = 100., ylim = 100., margin = 5.):\n",
    "    # make sure that x and y are between 0 and xlim, ylim\n",
    "    # with a margin\n",
    "    # make sure everything is larger than 0\n",
    "    xmin = df[[\"P1x\", \"P2x\", \"C1x\", \"C2x\"]].min().min()\n",
    "    df[[\"P1x\", \"P2x\", \"C1x\", \"C2x\"]] -= xmin\n",
    "\n",
    "    ymin = df[[\"P1y\", \"P2y\", \"C1y\", \"C2y\"]].min().min()\n",
    "    df[[\"P1y\", \"P2y\", \"C1y\", \"C2y\"]] -= ymin\n",
    "\n",
    "    # make sure everything is less than xlim - 2*margin\n",
    "    xmax = df[[\"P1x\", \"P2x\", \"C1x\", \"C2x\"]].max().max()\n",
    "    xmul = (xlim-2*margin) / xmax\n",
    "\n",
    "    ymax = df[[\"P1y\", \"P2y\", \"C1y\", \"C2y\"]].max().max()\n",
    "    ymul = (ylim-2*margin) / ymax\n",
    "\n",
    "    df[[\"P1x\", \"P1y\", \"P2x\", \"P2y\", \"C1x\", \"C1y\", \"C2x\", \"C2y\"]] *= min(xmul, ymul)\n",
    "\n",
    "    # shift everything up by margin\n",
    "    df[[\"P1x\", \"P1y\", \"P2x\", \"P2y\", \"C1x\", \"C1y\", \"C2x\", \"C2y\"]] += margin\n",
    "\n",
    "    return df"
   ]
  },
  {
   "cell_type": "code",
   "execution_count": 7,
   "metadata": {
    "collapsed": true
   },
   "outputs": [],
   "source": [
    "def preview_objs(objs):\n",
    "    pygame.init()\n",
    "\n",
    "    canvas=pygame.display.set_mode((240,170),0,32)\n",
    "\n",
    "    white = (255, 255, 255)\n",
    "    black = (0, 0, 0)\n",
    "\n",
    "    canvas.fill(white)\n",
    "\n",
    "    for obj in objs:\n",
    "        obj.draw(canvas, black)\n",
    "\n",
    "    while True:\n",
    "        for event in pygame.event.get():\n",
    "            if event.type==QUIT:\n",
    "                pygame.quit()\n",
    "                return\n",
    "        pygame.display.update()"
   ]
  },
  {
   "cell_type": "code",
   "execution_count": 8,
   "metadata": {
    "collapsed": true
   },
   "outputs": [],
   "source": [
    "def path_to_df(path):\n",
    "    records = split_path(path)\n",
    "    cols = [\"ins\", \"x\", \"y\", \"C1x\", \"C1y\", \"C2x\", \"C2y\"]\n",
    "    df = pd.DataFrame.from_records(records, columns = cols)\n",
    "    \n",
    "    df = clean_df(df)\n",
    "    \n",
    "    df = normalize_df(df)\n",
    "    \n",
    "    return df"
   ]
  },
  {
   "cell_type": "code",
   "execution_count": 9,
   "metadata": {
    "collapsed": true
   },
   "outputs": [],
   "source": [
    "def objs_to_plotter(objs):\n",
    "    for obj in objs:\n",
    "        print(obj.plot_instructions())"
   ]
  },
  {
   "cell_type": "code",
   "execution_count": 10,
   "metadata": {},
   "outputs": [],
   "source": [
    "def df_to_plotter(df):\n",
    "    objs = df_to_objs(df)\n",
    "    preview_objs(objs)\n",
    "    res = input(\"Are you sure?\")\n",
    "    if res == \"y\":\n",
    "        objs_to_plotter(objs)\n",
    "    else:\n",
    "        return"
   ]
  },
  {
   "cell_type": "code",
   "execution_count": 11,
   "metadata": {
    "collapsed": true
   },
   "outputs": [],
   "source": [
    "def df_to_objs(df):\n",
    "    objs = []\n",
    "\n",
    "    for i, row in df.iterrows():\n",
    "        if row[\"ins\"] == \"M\":\n",
    "            P2 = shapes.Point(*row[[\"P2x\", \"P2y\"]])\n",
    "            objs.append(P2)\n",
    "            \n",
    "        elif row[\"ins\"] == \"C\":\n",
    "            P1 = shapes.Point(*row[[\"P1x\", \"P1y\"]])\n",
    "            P2 = shapes.Point(*row[[\"P2x\", \"P2y\"]])\n",
    "            C1 = shapes.Point(*row[[\"C1x\", \"C1y\"]])\n",
    "            C2 = shapes.Point(*row[[\"C2x\", \"C2y\"]])\n",
    "            bez = shapes.CubicBezier(P1, C1, C2, P2)\n",
    "\n",
    "            # split curve if there is an inflection point\n",
    "            ip1, ip2 = bez.inflection_points()\n",
    "\n",
    "            if (ip1 == -1) and (ip2 != -1): # they are ordered\n",
    "                bez1, bez2 = bez.split_at(ip2)\n",
    "                objs.append(bez2)\n",
    "                objs.append(bez1)\n",
    "            elif (ip1 != -1) and (ip2 != -1): # split twice\n",
    "                bez1, bez2 = bez.split_at(ip1)\n",
    "                ip2 = (1 - ip1) * ip2\n",
    "                bez3, bez4 = bez2.split_at(ip2)\n",
    "                objs.append(bez4)\n",
    "                objs.append(bez3)\n",
    "                objs.append(bez1)\n",
    "            else:\n",
    "                objs.append(bez)\n",
    "            \n",
    "    return objs"
   ]
  },
  {
   "cell_type": "code",
   "execution_count": 12,
   "metadata": {
    "scrolled": true
   },
   "outputs": [],
   "source": [
    "# loop over paths in svg\n",
    "for path in paths:\n",
    "    df = path_to_df(path)"
   ]
  },
  {
   "cell_type": "code",
   "execution_count": 13,
   "metadata": {},
   "outputs": [
    {
     "ename": "KeyboardInterrupt",
     "evalue": "",
     "output_type": "error",
     "traceback": [
      "\u001b[0;31m---------------------------------------------------------------------------\u001b[0m",
      "\u001b[0;31mKeyboardInterrupt\u001b[0m                         Traceback (most recent call last)",
      "\u001b[0;32m<ipython-input-13-b480e59cfb1b>\u001b[0m in \u001b[0;36m<module>\u001b[0;34m()\u001b[0m\n\u001b[0;32m----> 1\u001b[0;31m \u001b[0mdf_to_plotter\u001b[0m\u001b[0;34m(\u001b[0m\u001b[0mdf\u001b[0m\u001b[0;34m)\u001b[0m\u001b[0;34m\u001b[0m\u001b[0m\n\u001b[0m",
      "\u001b[0;32m<ipython-input-10-f9f447fe888c>\u001b[0m in \u001b[0;36mdf_to_plotter\u001b[0;34m(df)\u001b[0m\n\u001b[1;32m      1\u001b[0m \u001b[0;32mdef\u001b[0m \u001b[0mdf_to_plotter\u001b[0m\u001b[0;34m(\u001b[0m\u001b[0mdf\u001b[0m\u001b[0;34m)\u001b[0m\u001b[0;34m:\u001b[0m\u001b[0;34m\u001b[0m\u001b[0m\n\u001b[1;32m      2\u001b[0m     \u001b[0mobjs\u001b[0m \u001b[0;34m=\u001b[0m \u001b[0mdf_to_objs\u001b[0m\u001b[0;34m(\u001b[0m\u001b[0mdf\u001b[0m\u001b[0;34m)\u001b[0m\u001b[0;34m\u001b[0m\u001b[0m\n\u001b[0;32m----> 3\u001b[0;31m     \u001b[0mpreview_objs\u001b[0m\u001b[0;34m(\u001b[0m\u001b[0mobjs\u001b[0m\u001b[0;34m)\u001b[0m\u001b[0;34m\u001b[0m\u001b[0m\n\u001b[0m\u001b[1;32m      4\u001b[0m     \u001b[0mres\u001b[0m \u001b[0;34m=\u001b[0m \u001b[0minput\u001b[0m\u001b[0;34m(\u001b[0m\u001b[0;34m\"see the preview, are you sure?\"\u001b[0m\u001b[0;34m)\u001b[0m\u001b[0;34m\u001b[0m\u001b[0m\n\u001b[1;32m      5\u001b[0m     \u001b[0;32mif\u001b[0m \u001b[0mres\u001b[0m \u001b[0;34m==\u001b[0m \u001b[0;34m\"y\"\u001b[0m\u001b[0;34m:\u001b[0m\u001b[0;34m\u001b[0m\u001b[0m\n",
      "\u001b[0;32m<ipython-input-7-cc49e20cf2a2>\u001b[0m in \u001b[0;36mpreview_objs\u001b[0;34m(objs)\u001b[0m\n\u001b[1;32m     13\u001b[0m \u001b[0;34m\u001b[0m\u001b[0m\n\u001b[1;32m     14\u001b[0m     \u001b[0;32mwhile\u001b[0m \u001b[0;32mTrue\u001b[0m\u001b[0;34m:\u001b[0m\u001b[0;34m\u001b[0m\u001b[0m\n\u001b[0;32m---> 15\u001b[0;31m         \u001b[0;32mfor\u001b[0m \u001b[0mevent\u001b[0m \u001b[0;32min\u001b[0m \u001b[0mpygame\u001b[0m\u001b[0;34m.\u001b[0m\u001b[0mevent\u001b[0m\u001b[0;34m.\u001b[0m\u001b[0mget\u001b[0m\u001b[0;34m(\u001b[0m\u001b[0;34m)\u001b[0m\u001b[0;34m:\u001b[0m\u001b[0;34m\u001b[0m\u001b[0m\n\u001b[0m\u001b[1;32m     16\u001b[0m             \u001b[0;32mif\u001b[0m \u001b[0mevent\u001b[0m\u001b[0;34m.\u001b[0m\u001b[0mtype\u001b[0m\u001b[0;34m==\u001b[0m\u001b[0mQUIT\u001b[0m\u001b[0;34m:\u001b[0m\u001b[0;34m\u001b[0m\u001b[0m\n\u001b[1;32m     17\u001b[0m                 \u001b[0mpygame\u001b[0m\u001b[0;34m.\u001b[0m\u001b[0mquit\u001b[0m\u001b[0;34m(\u001b[0m\u001b[0;34m)\u001b[0m\u001b[0;34m\u001b[0m\u001b[0m\n",
      "\u001b[0;31mKeyboardInterrupt\u001b[0m: "
     ]
    }
   ],
   "source": [
    "df_to_plotter(df)"
   ]
  },
  {
   "cell_type": "code",
   "execution_count": null,
   "metadata": {
    "collapsed": true
   },
   "outputs": [],
   "source": []
  }
 ],
 "metadata": {
  "kernelspec": {
   "display_name": "Python 3",
   "language": "python",
   "name": "python3"
  },
  "language_info": {
   "codemirror_mode": {
    "name": "ipython",
    "version": 3
   },
   "file_extension": ".py",
   "mimetype": "text/x-python",
   "name": "python",
   "nbconvert_exporter": "python",
   "pygments_lexer": "ipython3",
   "version": "3.6.5"
  }
 },
 "nbformat": 4,
 "nbformat_minor": 2
}
