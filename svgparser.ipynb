{
 "cells": [
  {
   "cell_type": "markdown",
   "metadata": {},
   "source": [
    "SVG Path instructions: https://www.w3schools.com/graphics/svg_path.asp"
   ]
  },
  {
   "cell_type": "code",
   "execution_count": 85,
   "metadata": {
    "collapsed": true
   },
   "outputs": [],
   "source": [
    "import re\n",
    "import pandas as pd\n",
    "\n",
    "import numpy as np\n",
    "import math\n",
    "import serial\n",
    "import pygame\n",
    "import time\n",
    "from pygame.locals import QUIT\n",
    "\n",
    "import shapes"
   ]
  },
  {
   "cell_type": "code",
   "execution_count": 86,
   "metadata": {
    "collapsed": true
   },
   "outputs": [],
   "source": [
    "# to keep track of how many parameters an instruction needs \n",
    "num_param = {\"m\": 2, \"l\": 2, \"h\": 1, \"v\": 1, \"z\": 0,\n",
    "            \"c\": 6, \"s\": 4, \"q\": 4, \"t\": 2, \"a\": 7}"
   ]
  },
  {
   "cell_type": "code",
   "execution_count": 108,
   "metadata": {
    "collapsed": true
   },
   "outputs": [],
   "source": [
    "# split svg path into its individual components\n",
    "def split_path(path):\n",
    "    ins = \"\"\n",
    "    \n",
    "    while len(path) > 0:\n",
    "        \n",
    "        # if the first element is a letter, it is the instruction\n",
    "        if path[0].isalpha():\n",
    "            ins = path[0]\n",
    "            path = path[1:]\n",
    "            path = path.strip()\n",
    "        \n",
    "        # get number of necessary parameters\n",
    "        n = str(num_param[ins.lower()])\n",
    "\n",
    "        # split into part for this instruction and rest\n",
    "        res = re.search(r\"((?:[\\-\\d\\.e\\+]+[\\s\\,]*){\"+n+\"})(.*)\", path)\n",
    "        \n",
    "        # collect parameters and the remaining path\n",
    "        params = res.group(1).strip()\n",
    "        path = res.group(2).strip()\n",
    "                \n",
    "        # split parameters into individual numbers\n",
    "        params = re.split(r\"[,\\s]\", params)\n",
    "        params = [float(p) for p in params if p != \"\"]\n",
    "        \n",
    "        if ins == \"m\":\n",
    "            ins = \"M\"\n",
    "        \n",
    "        # reorder the parameters\n",
    "        yield [ins] + params[-2:] + params[:-2]\n",
    "        \n",
    "    yield [\"a\"]+[0]*6 # add one row of length 7"
   ]
  },
  {
   "cell_type": "code",
   "execution_count": 88,
   "metadata": {
    "collapsed": true,
    "scrolled": true
   },
   "outputs": [],
   "source": [
    "def clean_df(df):\n",
    "    # flip y coordinates (we want (0,0) in the bottom left)\n",
    "    df[[\"y\", \"C1y\", \"C2y\"]] = -df[[\"y\", \"C1y\", \"C2y\"]]\n",
    "\n",
    "    # convert everything to absolute paths\n",
    "    df[\"is_abs\"] = df[\"ins\"].apply(lambda x: x.isupper())\n",
    "    df[\"group\"] = df[\"is_abs\"].cumsum()\n",
    "\n",
    "    # add the relative paths to the absolute paths\n",
    "    df[\"P2x\"] = df.groupby(\"group\").x.cumsum()\n",
    "    df[\"P2y\"] = df.groupby(\"group\").y.cumsum()\n",
    "\n",
    "    # shift y coordinate such that the origin is in (0,0)\n",
    "    df.loc[df[\"is_abs\"], \"C1y\"] -= df[\"P2y\"].min()\n",
    "    df.loc[df[\"is_abs\"], \"C2y\"] -= df[\"P2y\"].min()\n",
    "    df[\"P2y\"] -= df[\"P2y\"].min()\n",
    "\n",
    "    # add 'from' coordinates such that every row in the DataFrame is stand-alone\n",
    "    df[\"P1x\"] = df[\"P2x\"].shift(1)\n",
    "    df[\"P1y\"] = df[\"P2y\"].shift(1)\n",
    "    df.loc[0, \"P1x\"] = 0\n",
    "    df.loc[0, \"P1y\"] = 0\n",
    "\n",
    "    # make these absolute as well\n",
    "    df.loc[-df[\"is_abs\"], \"C1x\"] += df[\"P1x\"]\n",
    "    df.loc[-df[\"is_abs\"], \"C1y\"] += df[\"P1y\"]\n",
    "    df.loc[-df[\"is_abs\"], \"C2x\"] += df[\"P1x\"]\n",
    "    df.loc[-df[\"is_abs\"], \"C2y\"] += df[\"P1y\"]\n",
    "\n",
    "    # make sure that the letters are in uppercase\n",
    "    df[\"ins\"] = df[\"ins\"].str.upper()\n",
    "\n",
    "    df = df[[\"ins\", \"P1x\", \"P1y\", \"P2x\", \"P2y\", \"C1x\", \"C1y\", \"C2x\", \"C2y\"]]\n",
    "    \n",
    "    return df"
   ]
  },
  {
   "cell_type": "code",
   "execution_count": 89,
   "metadata": {
    "collapsed": true
   },
   "outputs": [],
   "source": [
    "def normalize_df(df, x0, y0, xlim, ylim, margin):\n",
    "    # make sure that x and y start at xmin, ymin,\n",
    "    # width, height is xmax, ymax\n",
    "    # with a margin\n",
    "    # make sure everything is larger than 0\n",
    "    xmin = df[[\"P1x\", \"P2x\", \"C1x\", \"C2x\"]].min().min()\n",
    "    df[[\"P1x\", \"P2x\", \"C1x\", \"C2x\"]] -= xmin\n",
    "\n",
    "    ymin = df[[\"P1y\", \"P2y\", \"C1y\", \"C2y\"]].min().min()\n",
    "    df[[\"P1y\", \"P2y\", \"C1y\", \"C2y\"]] -= ymin\n",
    "\n",
    "    # make sure everything is less than xlim - 2*margin\n",
    "    xmax = df[[\"P1x\", \"P2x\", \"C1x\", \"C2x\"]].max().max()\n",
    "    xmul = (xlim-2*margin) / xmax\n",
    "\n",
    "    ymax = df[[\"P1y\", \"P2y\", \"C1y\", \"C2y\"]].max().max()\n",
    "    ymul = (ylim-2*margin) / ymax\n",
    "\n",
    "    df[[\"P1x\", \"P1y\", \"P2x\", \"P2y\", \"C1x\", \"C1y\", \"C2x\", \"C2y\"]] *= min(xmul, ymul)\n",
    "\n",
    "    # shift everything up by margin\n",
    "    df[[\"P1x\", \"P1y\", \"P2x\", \"P2y\", \"C1x\", \"C1y\", \"C2x\", \"C2y\"]] += margin\n",
    "    \n",
    "    \n",
    "    df[[\"P1x\", \"P2x\", \"C1x\", \"C2x\"]] += x0\n",
    "    df[[\"P1y\", \"P2y\", \"C1y\", \"C2y\"]] += y0\n",
    "\n",
    "    return df"
   ]
  },
  {
   "cell_type": "code",
   "execution_count": 90,
   "metadata": {
    "collapsed": true
   },
   "outputs": [],
   "source": [
    "def preview_objs(objs):\n",
    "    pygame.init()\n",
    "\n",
    "    canvas=pygame.display.set_mode((240,170),0,32)\n",
    "\n",
    "    white = (255, 255, 255)\n",
    "    black = (0, 0, 0)\n",
    "\n",
    "    canvas.fill(white)\n",
    "\n",
    "    for obj in objs:\n",
    "        obj.draw(canvas, black)\n",
    "\n",
    "    while True:\n",
    "        for event in pygame.event.get():\n",
    "            if event.type==QUIT:\n",
    "                pygame.quit()\n",
    "                return\n",
    "        pygame.display.update()"
   ]
  },
  {
   "cell_type": "code",
   "execution_count": 98,
   "metadata": {
    "collapsed": true,
    "scrolled": true
   },
   "outputs": [],
   "source": [
    "def paths_to_df(paths, xmin = 0, ymin = 0, xlim = 100., ylim = 100., margin = 5.):\n",
    "    df = pd.DataFrame()\n",
    "    # loop over paths in svg\n",
    "    for path in paths:\n",
    "        df = df.append(path_to_df(path))\n",
    "\n",
    "    df = clean_df(df) # make all coordinates absolute\n",
    "    df = normalize_df(df, xmin, ymin, xlim, ylim, margin) # make everything within bounds\n",
    "    \n",
    "    return df"
   ]
  },
  {
   "cell_type": "code",
   "execution_count": 92,
   "metadata": {
    "collapsed": true
   },
   "outputs": [],
   "source": [
    "def path_to_df(path):\n",
    "    records = split_path(path)\n",
    "    cols = [\"ins\", \"x\", \"y\", \"C1x\", \"C1y\", \"C2x\", \"C2y\"]\n",
    "    \n",
    "    df = pd.DataFrame.from_records(records, columns = cols)\n",
    "        \n",
    "    return df"
   ]
  },
  {
   "cell_type": "code",
   "execution_count": 93,
   "metadata": {
    "collapsed": true
   },
   "outputs": [],
   "source": [
    "def df_to_objs(df):\n",
    "    objs = []\n",
    "\n",
    "    for _, row in df.iterrows():\n",
    "        if row[\"ins\"] == \"M\": # move\n",
    "            P2 = shapes.Point(*row[[\"P2x\", \"P2y\"]])\n",
    "            objs.append(P2)\n",
    "            \n",
    "        elif row[\"ins\"] == \"L\": # line\n",
    "            P1 = shapes.Point(*row[[\"P1x\", \"P1y\"]])\n",
    "            P2 = shapes.Point(*row[[\"P2x\", \"P2y\"]])\n",
    "            l = shapes.Line(P1, P2)\n",
    "            objs.append(l)\n",
    "            \n",
    "        elif row[\"ins\"] == \"C\": # curve\n",
    "            P1 = shapes.Point(*row[[\"P1x\", \"P1y\"]])\n",
    "            P2 = shapes.Point(*row[[\"P2x\", \"P2y\"]])\n",
    "            C1 = shapes.Point(*row[[\"C1x\", \"C1y\"]])\n",
    "            C2 = shapes.Point(*row[[\"C2x\", \"C2y\"]])\n",
    "            bez = shapes.CubicBezier(P1, C1, C2, P2)\n",
    "\n",
    "            # split curve if there is an inflection point\n",
    "            ip1, ip2 = bez.inflection_points()\n",
    "\n",
    "            if (ip1 == -1) and (ip2 != -1): # they are ordered\n",
    "                bez1, bez2 = bez.split_at(ip2)\n",
    "                objs.append(bez1)\n",
    "                objs.append(bez2)\n",
    "            elif (ip1 != -1) and (ip2 != -1): # split twice\n",
    "                bez1, bez2 = bez.split_at(ip1)\n",
    "                ip2 = (1 - ip1) * ip2\n",
    "                bez3, bez4 = bez2.split_at(ip2)\n",
    "                objs.append(bez1)\n",
    "                objs.append(bez3)\n",
    "                objs.append(bez4)\n",
    "            else:\n",
    "                objs.append(bez)\n",
    "            \n",
    "    return objs"
   ]
  },
  {
   "cell_type": "code",
   "execution_count": 94,
   "metadata": {
    "collapsed": true
   },
   "outputs": [],
   "source": [
    "def objs_to_plotter(objs, s):\n",
    "    # display objects and ask for confirmation\n",
    "    preview_objs(objs)\n",
    "    r = input(\"plot this? [y/N]\")\n",
    "    if r != \"y\":\n",
    "        return\n",
    "    \n",
    "    # if response was 'y', plot it\n",
    "    for obj in objs:\n",
    "        for line in obj.plot_instructions():\n",
    "            l = line + \"\\n\"\n",
    "            print('Sending: ' + l,)\n",
    "            s.write(l.encode('utf-8')) # Send g-code block to grbl\n",
    "            grbl_out = s.readline() # Wait for grbl response with carriage return\n",
    "            print(grbl_out.strip())"
   ]
  },
  {
   "cell_type": "code",
   "execution_count": 95,
   "metadata": {
    "collapsed": true
   },
   "outputs": [],
   "source": [
    "def wake_up_serial(port, baud):\n",
    "    # Open grbl serial port\n",
    "    s = serial.Serial(port, baud)\n",
    "\n",
    "    # Wake up grbl\n",
    "    s.write(b\"\\r\\n\\r\\n\")\n",
    "    time.sleep(3)   # Wait for grbl to initialize \n",
    "    s.flushInput()  # Flush startup text in serial input\n",
    "\n",
    "    s.write(b\"G21\\n\")   # units = mm\n",
    "    print(s.readline().strip())\n",
    "    s.write(b\"F5000\\n\") # feed rate\n",
    "    print(s.readline().strip())\n",
    "\n",
    "    s.write(b\"S0 M3\\n\") # pen slightly down\n",
    "    print(s.readline().strip())\n",
    "\n",
    "    s.write(b\"S0 M5\\n\") # pen up\n",
    "    print(s.readline().strip())\n",
    "    \n",
    "    return s"
   ]
  },
  {
   "cell_type": "code",
   "execution_count": 12,
   "metadata": {
    "collapsed": true
   },
   "outputs": [],
   "source": [
    "P = shapes.Point(10, 80)\n",
    "S = shapes.SineWave(P = P, A = 10, n = 50)\n",
    "bez = S.to_bezier3()"
   ]
  },
  {
   "cell_type": "code",
   "execution_count": 13,
   "metadata": {
    "collapsed": true
   },
   "outputs": [],
   "source": [
    "P = shapes.Point(10, 80)\n",
    "S = shapes.SineWave(P = P, A = 10, n = 50)\n",
    "P2 = shapes.Point(60, 80)\n",
    "S2 = shapes.SineWave(P = P2, A = 20, n = 50)"
   ]
  },
  {
   "cell_type": "code",
   "execution_count": 23,
   "metadata": {},
   "outputs": [
    {
     "name": "stdout",
     "output_type": "stream",
     "text": [
      "b'ok'\n",
      "b'ok'\n",
      "b'ok'\n",
      "b'ok'\n"
     ]
    }
   ],
   "source": [
    "s = wake_up_serial('/dev/tty.wchusbserial1410', 115200)"
   ]
  },
  {
   "cell_type": "code",
   "execution_count": 24,
   "metadata": {
    "scrolled": true
   },
   "outputs": [
    {
     "name": "stdout",
     "output_type": "stream",
     "text": [
      "plot this? [y/N]y\n",
      "Sending: S0 M5\n",
      "\n",
      "b'ok'\n",
      "Sending: G01 X-10 Y80\n",
      "\n",
      "b'ok'\n",
      "Sending: S1000 M3\n",
      "\n",
      "b'ok'\n",
      "Sending: G03 X-14.28942 Y85.10755 I-103.12248 J-82.24936\n",
      "\n",
      "b'ok'\n",
      "Sending: G03 X-16.25 Y87.07107 I-17.10509 J-15.11891\n",
      "\n",
      "b'ok'\n",
      "Sending: G03 X-19.78329 Y89.395 I-9.80549 J-11.06021\n",
      "\n",
      "b'ok'\n",
      "Sending: G03 X-22.5 Y90 I-2.71671 J-5.79714\n",
      "\n",
      "b'ok'\n",
      "Sending: G03 X-25.21671 Y89.395 I-0.0 J-6.40214\n",
      "\n",
      "b'ok'\n",
      "Sending: G03 X-28.75 Y87.07107 I6.2722 J-13.38415\n",
      "\n",
      "b'ok'\n",
      "Sending: G03 X-30.71058 Y85.10755 I15.14451 J-17.08242\n",
      "\n",
      "b'ok'\n",
      "Sending: G03 X-35.0 Y80 I98.83306 J-87.35691\n",
      "\n",
      "b'ok'\n",
      "Sending: G02 X-39.28942 Y74.89245 I-103.12248 J82.24936\n",
      "\n",
      "b'ok'\n",
      "Sending: G02 X-41.25 Y72.92893 I-17.10509 J15.11891\n",
      "\n",
      "b'ok'\n",
      "Sending: G02 X-44.78329 Y70.605 I-9.80549 J11.06021\n",
      "\n",
      "b'ok'\n",
      "Sending: G02 X-47.5 Y70 I-2.71671 J5.79714\n",
      "\n",
      "b'ok'\n",
      "Sending: G02 X-50.21671 Y70.605 I-0.0 J6.40214\n",
      "\n",
      "b'ok'\n",
      "Sending: G02 X-53.75 Y72.92893 I6.2722 J13.38415\n",
      "\n",
      "b'ok'\n",
      "Sending: G02 X-55.71058 Y74.89245 I15.14451 J17.08242\n",
      "\n",
      "b'ok'\n",
      "Sending: G02 X-60.0 Y80 I98.83306 J87.35691\n",
      "\n",
      "b'ok'\n",
      "Sending: G03 X-64.35288 Y90.35901 I-284.67003 J-113.52484\n",
      "\n",
      "b'ok'\n",
      "Sending: G03 X-66.25 Y94.14214 I-39.76657 J-17.57451\n",
      "\n",
      "b'ok'\n",
      "Sending: G03 X-70.10647 Y99.05366 I-17.94603 J-10.12121\n",
      "\n",
      "b'ok'\n",
      "Sending: G03 X-72.5 Y100 I-2.39353 J-2.55376\n",
      "\n",
      "b'ok'\n",
      "Sending: G03 X-74.89353 Y99.05366 I-0.0 J-3.50009\n",
      "\n",
      "b'ok'\n",
      "Sending: G03 X-78.75 Y94.14214 I14.08956 J-15.03274\n",
      "\n",
      "b'ok'\n",
      "Sending: G03 X-80.64712 Y90.35901 I37.86945 J-21.35763\n",
      "\n",
      "b'ok'\n",
      "Sending: G03 X-85.0 Y80 I280.31716 J-123.88385\n",
      "\n",
      "b'ok'\n",
      "Sending: G02 X-89.35288 Y69.64099 I-284.67003 J113.52484\n",
      "\n",
      "b'ok'\n",
      "Sending: G02 X-91.25 Y65.85786 I-39.76657 J17.57451\n",
      "\n",
      "b'ok'\n",
      "Sending: G02 X-95.10647 Y60.94634 I-17.94603 J10.12121\n",
      "\n",
      "b'ok'\n",
      "Sending: G02 X-97.5 Y60 I-2.39353 J2.55376\n",
      "\n",
      "b'ok'\n",
      "Sending: G02 X-99.89353 Y60.94634 I0.0 J3.50009\n",
      "\n",
      "b'ok'\n",
      "Sending: G02 X-103.75 Y65.85786 I14.08956 J15.03274\n",
      "\n",
      "b'ok'\n",
      "Sending: G02 X-105.64712 Y69.64099 I37.86945 J21.35763\n",
      "\n",
      "b'ok'\n",
      "Sending: G02 X-110.0 Y80 I280.31716 J123.88385\n",
      "\n",
      "b'ok'\n"
     ]
    }
   ],
   "source": [
    "objs_to_plotter([P, S, S2], s)\n",
    "\n",
    "s.write(b\"S0 M5\\n\") # pen up\n",
    "print(s.readline())\n",
    "\n",
    "s.write(b\"G00 X0 Y0\\n\") # go home\n",
    "print(s.readline())"
   ]
  },
  {
   "cell_type": "code",
   "execution_count": 26,
   "metadata": {},
   "outputs": [
    {
     "ename": "SerialException",
     "evalue": "Attempting to use a port that is not open",
     "output_type": "error",
     "traceback": [
      "\u001b[0;31m---------------------------------------------------------------------------\u001b[0m",
      "\u001b[0;31mSerialException\u001b[0m                           Traceback (most recent call last)",
      "\u001b[0;32m<ipython-input-26-edd68981b2d2>\u001b[0m in \u001b[0;36m<module>\u001b[0;34m()\u001b[0m\n\u001b[0;32m----> 1\u001b[0;31m \u001b[0ms\u001b[0m\u001b[0;34m.\u001b[0m\u001b[0mwrite\u001b[0m\u001b[0;34m(\u001b[0m\u001b[0;34mb\"S0 M5\\n\"\u001b[0m\u001b[0;34m)\u001b[0m \u001b[0;31m# pen up\u001b[0m\u001b[0;34m\u001b[0m\u001b[0m\n\u001b[0m\u001b[1;32m      2\u001b[0m \u001b[0mprint\u001b[0m\u001b[0;34m(\u001b[0m\u001b[0ms\u001b[0m\u001b[0;34m.\u001b[0m\u001b[0mreadline\u001b[0m\u001b[0;34m(\u001b[0m\u001b[0;34m)\u001b[0m\u001b[0;34m)\u001b[0m\u001b[0;34m\u001b[0m\u001b[0m\n\u001b[1;32m      3\u001b[0m \u001b[0;34m\u001b[0m\u001b[0m\n\u001b[1;32m      4\u001b[0m \u001b[0ms\u001b[0m\u001b[0;34m.\u001b[0m\u001b[0mwrite\u001b[0m\u001b[0;34m(\u001b[0m\u001b[0;34mb\"G00 X0 Y0\\n\"\u001b[0m\u001b[0;34m)\u001b[0m \u001b[0;31m# go home\u001b[0m\u001b[0;34m\u001b[0m\u001b[0m\n\u001b[1;32m      5\u001b[0m \u001b[0mprint\u001b[0m\u001b[0;34m(\u001b[0m\u001b[0ms\u001b[0m\u001b[0;34m.\u001b[0m\u001b[0mreadline\u001b[0m\u001b[0;34m(\u001b[0m\u001b[0;34m)\u001b[0m\u001b[0;34m)\u001b[0m\u001b[0;34m\u001b[0m\u001b[0m\n",
      "\u001b[0;32m~/anaconda2/envs/plot/lib/python3.6/site-packages/serial/serialposix.py\u001b[0m in \u001b[0;36mwrite\u001b[0;34m(self, data)\u001b[0m\n\u001b[1;32m    529\u001b[0m         \u001b[0;34m\"\"\"Output the given byte string over the serial port.\"\"\"\u001b[0m\u001b[0;34m\u001b[0m\u001b[0m\n\u001b[1;32m    530\u001b[0m         \u001b[0;32mif\u001b[0m \u001b[0;32mnot\u001b[0m \u001b[0mself\u001b[0m\u001b[0;34m.\u001b[0m\u001b[0mis_open\u001b[0m\u001b[0;34m:\u001b[0m\u001b[0;34m\u001b[0m\u001b[0m\n\u001b[0;32m--> 531\u001b[0;31m             \u001b[0;32mraise\u001b[0m \u001b[0mportNotOpenError\u001b[0m\u001b[0;34m\u001b[0m\u001b[0m\n\u001b[0m\u001b[1;32m    532\u001b[0m         \u001b[0md\u001b[0m \u001b[0;34m=\u001b[0m \u001b[0mto_bytes\u001b[0m\u001b[0;34m(\u001b[0m\u001b[0mdata\u001b[0m\u001b[0;34m)\u001b[0m\u001b[0;34m\u001b[0m\u001b[0m\n\u001b[1;32m    533\u001b[0m         \u001b[0mtx_len\u001b[0m \u001b[0;34m=\u001b[0m \u001b[0mlength\u001b[0m \u001b[0;34m=\u001b[0m \u001b[0mlen\u001b[0m\u001b[0;34m(\u001b[0m\u001b[0md\u001b[0m\u001b[0;34m)\u001b[0m\u001b[0;34m\u001b[0m\u001b[0m\n",
      "\u001b[0;32m~/anaconda2/envs/plot/lib/python3.6/site-packages/IPython/core/interactiveshell.py\u001b[0m in \u001b[0;36mrun_code\u001b[0;34m(self, code_obj, result)\u001b[0m\n\u001b[1;32m   2961\u001b[0m                 \u001b[0mself\u001b[0m\u001b[0;34m.\u001b[0m\u001b[0mhooks\u001b[0m\u001b[0;34m.\u001b[0m\u001b[0mpre_run_code_hook\u001b[0m\u001b[0;34m(\u001b[0m\u001b[0;34m)\u001b[0m\u001b[0;34m\u001b[0m\u001b[0m\n\u001b[1;32m   2962\u001b[0m                 \u001b[0;31m#rprint('Running code', repr(code_obj)) # dbg\u001b[0m\u001b[0;34m\u001b[0m\u001b[0;34m\u001b[0m\u001b[0m\n\u001b[0;32m-> 2963\u001b[0;31m                 \u001b[0mexec\u001b[0m\u001b[0;34m(\u001b[0m\u001b[0mcode_obj\u001b[0m\u001b[0;34m,\u001b[0m \u001b[0mself\u001b[0m\u001b[0;34m.\u001b[0m\u001b[0muser_global_ns\u001b[0m\u001b[0;34m,\u001b[0m \u001b[0mself\u001b[0m\u001b[0;34m.\u001b[0m\u001b[0muser_ns\u001b[0m\u001b[0;34m)\u001b[0m\u001b[0;34m\u001b[0m\u001b[0m\n\u001b[0m\u001b[1;32m   2964\u001b[0m             \u001b[0;32mfinally\u001b[0m\u001b[0;34m:\u001b[0m\u001b[0;34m\u001b[0m\u001b[0m\n\u001b[1;32m   2965\u001b[0m                 \u001b[0;31m# Reset our crash handler in place\u001b[0m\u001b[0;34m\u001b[0m\u001b[0;34m\u001b[0m\u001b[0m\n",
      "\u001b[0;32m<ipython-input-22-9bc425036780>\u001b[0m in \u001b[0;36m<module>\u001b[0;34m()\u001b[0m\n\u001b[0;32m----> 1\u001b[0;31m \u001b[0mobjs_to_plotter\u001b[0m\u001b[0;34m(\u001b[0m\u001b[0;34m[\u001b[0m\u001b[0mP\u001b[0m\u001b[0;34m,\u001b[0m \u001b[0mS\u001b[0m\u001b[0;34m,\u001b[0m \u001b[0mS2\u001b[0m\u001b[0;34m]\u001b[0m\u001b[0;34m,\u001b[0m \u001b[0ms\u001b[0m\u001b[0;34m)\u001b[0m\u001b[0;34m\u001b[0m\u001b[0m\n\u001b[0m",
      "\u001b[0;32m<ipython-input-10-93d65827482f>\u001b[0m in \u001b[0;36mobjs_to_plotter\u001b[0;34m(objs, s)\u001b[0m\n\u001b[1;32m     11\u001b[0m             \u001b[0ml\u001b[0m \u001b[0;34m=\u001b[0m \u001b[0mline\u001b[0m \u001b[0;34m+\u001b[0m \u001b[0;34m\"\\n\"\u001b[0m\u001b[0;34m\u001b[0m\u001b[0m\n\u001b[1;32m     12\u001b[0m             \u001b[0mprint\u001b[0m\u001b[0;34m(\u001b[0m\u001b[0;34m'Sending: '\u001b[0m \u001b[0;34m+\u001b[0m \u001b[0ml\u001b[0m\u001b[0;34m,\u001b[0m\u001b[0;34m)\u001b[0m\u001b[0;34m\u001b[0m\u001b[0m\n\u001b[0;32m---> 13\u001b[0;31m             \u001b[0ms\u001b[0m\u001b[0;34m.\u001b[0m\u001b[0mwrite\u001b[0m\u001b[0;34m(\u001b[0m\u001b[0ml\u001b[0m\u001b[0;34m.\u001b[0m\u001b[0mencode\u001b[0m\u001b[0;34m(\u001b[0m\u001b[0;34m'utf-8'\u001b[0m\u001b[0;34m)\u001b[0m\u001b[0;34m)\u001b[0m \u001b[0;31m# Send g-code block to grbl\u001b[0m\u001b[0;34m\u001b[0m\u001b[0m\n\u001b[0m\u001b[1;32m     14\u001b[0m             \u001b[0mgrbl_out\u001b[0m \u001b[0;34m=\u001b[0m \u001b[0ms\u001b[0m\u001b[0;34m.\u001b[0m\u001b[0mreadline\u001b[0m\u001b[0;34m(\u001b[0m\u001b[0;34m)\u001b[0m \u001b[0;31m# Wait for grbl response with carriage return\u001b[0m\u001b[0;34m\u001b[0m\u001b[0m\n\u001b[1;32m     15\u001b[0m             \u001b[0mprint\u001b[0m\u001b[0;34m(\u001b[0m\u001b[0mgrbl_out\u001b[0m\u001b[0;34m.\u001b[0m\u001b[0mstrip\u001b[0m\u001b[0;34m(\u001b[0m\u001b[0;34m)\u001b[0m\u001b[0;34m)\u001b[0m\u001b[0;34m\u001b[0m\u001b[0m\n",
      "\u001b[0;32m~/anaconda2/envs/plot/lib/python3.6/site-packages/serial/serialposix.py\u001b[0m in \u001b[0;36mwrite\u001b[0;34m(self, data)\u001b[0m\n\u001b[1;32m    529\u001b[0m         \u001b[0;34m\"\"\"Output the given byte string over the serial port.\"\"\"\u001b[0m\u001b[0;34m\u001b[0m\u001b[0m\n\u001b[1;32m    530\u001b[0m         \u001b[0;32mif\u001b[0m \u001b[0;32mnot\u001b[0m \u001b[0mself\u001b[0m\u001b[0;34m.\u001b[0m\u001b[0mis_open\u001b[0m\u001b[0;34m:\u001b[0m\u001b[0;34m\u001b[0m\u001b[0m\n\u001b[0;32m--> 531\u001b[0;31m             \u001b[0;32mraise\u001b[0m \u001b[0mportNotOpenError\u001b[0m\u001b[0;34m\u001b[0m\u001b[0m\n\u001b[0m\u001b[1;32m    532\u001b[0m         \u001b[0md\u001b[0m \u001b[0;34m=\u001b[0m \u001b[0mto_bytes\u001b[0m\u001b[0;34m(\u001b[0m\u001b[0mdata\u001b[0m\u001b[0;34m)\u001b[0m\u001b[0;34m\u001b[0m\u001b[0m\n\u001b[1;32m    533\u001b[0m         \u001b[0mtx_len\u001b[0m \u001b[0;34m=\u001b[0m \u001b[0mlength\u001b[0m \u001b[0;34m=\u001b[0m \u001b[0mlen\u001b[0m\u001b[0;34m(\u001b[0m\u001b[0md\u001b[0m\u001b[0;34m)\u001b[0m\u001b[0;34m\u001b[0m\u001b[0m\n",
      "\u001b[0;31mSerialException\u001b[0m: Attempting to use a port that is not open"
     ]
    }
   ],
   "source": [
    "s.write(b\"S0 M5\\n\") # pen up\n",
    "print(s.readline())\n",
    "\n",
    "s.write(b\"G00 X0 Y0\\n\") # go home\n",
    "print(s.readline())\n",
    "\n",
    "time.sleep(3)   # wait for everything to finish \n",
    "\n",
    "# close serial port\n",
    "s.close()"
   ]
  },
  {
   "cell_type": "code",
   "execution_count": 117,
   "metadata": {
    "scrolled": true
   },
   "outputs": [
    {
     "name": "stdout",
     "output_type": "stream",
     "text": [
      "b'ok'\n",
      "b'ok'\n",
      "b'ok'\n",
      "b'ok'\n",
      "plot this? [y/N]N\n",
      "b'ok\\r\\n'\n",
      "b'ok\\r\\n'\n"
     ]
    }
   ],
   "source": [
    "# read svg and find paths\n",
    "f = open(\"/Users/Bas/Desktop/path4234.svg\", \"r\")\n",
    "svg = \"\".join(f.readlines())\n",
    "paths = re.findall(r\"path.+?d=\\\"(.+?)\\\"\", svg, re.DOTALL)\n",
    "\n",
    "df = paths_to_df(paths, xmin = 0, ymin = 0, xlim = 100., ylim = 100., margin = 5.)\n",
    "objs = df_to_objs(df)\n",
    "\n",
    "s = wake_up_serial('/dev/tty.wchusbserial1410', 115200)\n",
    "\n",
    "objs_to_plotter(objs, s)\n",
    "\n",
    "s.write(b\"S0 M5\\n\") # pen up\n",
    "print(s.readline())\n",
    "\n",
    "s.write(b\"G00 X0 Y0\\n\") # go home\n",
    "print(s.readline())\n",
    "\n",
    "time.sleep(3)   # wait for everything to finish \n",
    "\n",
    "# close serial port\n",
    "s.close()"
   ]
  },
  {
   "cell_type": "code",
   "execution_count": null,
   "metadata": {
    "collapsed": true
   },
   "outputs": [],
   "source": []
  }
 ],
 "metadata": {
  "kernelspec": {
   "display_name": "Python 3",
   "language": "python",
   "name": "python3"
  },
  "language_info": {
   "codemirror_mode": {
    "name": "ipython",
    "version": 3
   },
   "file_extension": ".py",
   "mimetype": "text/x-python",
   "name": "python",
   "nbconvert_exporter": "python",
   "pygments_lexer": "ipython3",
   "version": "3.6.5"
  }
 },
 "nbformat": 4,
 "nbformat_minor": 2
}
