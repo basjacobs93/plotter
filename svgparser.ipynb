{
 "cells": [
  {
   "cell_type": "markdown",
   "metadata": {},
   "source": [
    "SVG Path instructions: https://www.w3schools.com/graphics/svg_path.asp"
   ]
  },
  {
   "cell_type": "code",
   "execution_count": 1,
   "metadata": {
    "collapsed": true
   },
   "outputs": [],
   "source": [
    "import re\n",
    "import pandas as pd\n",
    "\n",
    "import numpy as np\n",
    "import math\n",
    "import serial\n",
    "import pygame\n",
    "import time\n",
    "from pygame.locals import QUIT\n",
    "\n",
    "import shapes"
   ]
  },
  {
   "cell_type": "code",
   "execution_count": 2,
   "metadata": {
    "collapsed": true
   },
   "outputs": [],
   "source": [
    "# to keep track of how many parameters an instruction needs \n",
    "num_param = {\"m\": 2, \"l\": 2, \"h\": 1, \"v\": 1, \"z\": 0,\n",
    "            \"c\": 6, \"s\": 4, \"q\": 4, \"t\": 2, \"a\": 7}"
   ]
  },
  {
   "cell_type": "code",
   "execution_count": 3,
   "metadata": {
    "collapsed": true
   },
   "outputs": [],
   "source": [
    "# split svg path into its individual components\n",
    "def split_path(path):\n",
    "    ins = \"\"\n",
    "    \n",
    "    while len(path) > 0:\n",
    "        #print path\n",
    "        \n",
    "        # if the first element is a letter, it is the instruction\n",
    "        if path[0].isalpha():\n",
    "            ins = path[0]\n",
    "            path = path[1:]\n",
    "            path = path.strip()\n",
    "        \n",
    "        # get number of necessary parameters\n",
    "        n = str(num_param[ins.lower()])\n",
    "\n",
    "        # split into part for this instruction and rest\n",
    "        res = re.search(r\"((?:[\\-\\d\\.e\\+]+[\\s\\,]*){\"+n+\"})(.*)\", path)\n",
    "        \n",
    "        # collect parameters and the remaining path\n",
    "        params = res.group(1).strip()\n",
    "        path = res.group(2).strip()\n",
    "        \n",
    "        # split parameters into individual numbers\n",
    "        params = re.split(r\"[,\\s]\", params)\n",
    "        params = [float(p) for p in params if p != \"\"]\n",
    "        \n",
    "        if ins == \"m\":\n",
    "            ins = \"M\"\n",
    "        \n",
    "        \n",
    "        # reorder the parameters\n",
    "        yield [ins] + params[-2:] + params[:-2]"
   ]
  },
  {
   "cell_type": "code",
   "execution_count": 4,
   "metadata": {
    "collapsed": true,
    "scrolled": true
   },
   "outputs": [],
   "source": [
    "def clean_df(df):\n",
    "    # flip y coordinates (we want (0,0) in the bottom left)\n",
    "    df[[\"y\", \"C1y\", \"C2y\"]] = -df[[\"y\", \"C1y\", \"C2y\"]]\n",
    "\n",
    "    # convert everything to absolute paths\n",
    "    df[\"is_abs\"] = df[\"ins\"].apply(lambda x: x.isupper())\n",
    "    df[\"group\"] = df[\"is_abs\"].cumsum()\n",
    "\n",
    "    # add the relative paths to the absolute paths\n",
    "    df[\"P2x\"] = df.groupby(\"group\").x.cumsum()\n",
    "    df[\"P2y\"] = df.groupby(\"group\").y.cumsum()\n",
    "\n",
    "    # shift y coordinate such that the origin is in (0,0)\n",
    "    df.loc[df[\"is_abs\"], \"C1y\"] -= df[\"P2y\"].min()\n",
    "    df.loc[df[\"is_abs\"], \"C2y\"] -= df[\"P2y\"].min()\n",
    "    df[\"P2y\"] -= df[\"P2y\"].min()\n",
    "\n",
    "    # add 'from' coordinates such that every row in the DataFrame is stand-alone\n",
    "    df[\"P1x\"] = df[\"P2x\"].shift(1)\n",
    "    df[\"P1y\"] = df[\"P2y\"].shift(1)\n",
    "    df.loc[0, \"P1x\"] = 0\n",
    "    df.loc[0, \"P1y\"] = 0\n",
    "\n",
    "    # make these absolute as well\n",
    "    df.loc[-df[\"is_abs\"], \"C1x\"] += df[\"P1x\"]\n",
    "    df.loc[-df[\"is_abs\"], \"C1y\"] += df[\"P1y\"]\n",
    "    df.loc[-df[\"is_abs\"], \"C2x\"] += df[\"P1x\"]\n",
    "    df.loc[-df[\"is_abs\"], \"C2y\"] += df[\"P1y\"]\n",
    "\n",
    "    # make sure that the letters are in uppercase\n",
    "    df[\"ins\"] = df[\"ins\"].str.upper()\n",
    "\n",
    "    df = df[[\"ins\", \"P1x\", \"P1y\", \"P2x\", \"P2y\", \"C1x\", \"C1y\", \"C2x\", \"C2y\"]]\n",
    "    \n",
    "    return df"
   ]
  },
  {
   "cell_type": "code",
   "execution_count": 5,
   "metadata": {
    "collapsed": true
   },
   "outputs": [],
   "source": [
    "def normalize_df(df, x0, y0, xlim, ylim, margin):\n",
    "    # make sure that x and y start at xmin, ymin,\n",
    "    # width, height is xmax, ymax\n",
    "    # with a margin\n",
    "    # make sure everything is larger than 0\n",
    "    xmin = df[[\"P1x\", \"P2x\", \"C1x\", \"C2x\"]].min().min()\n",
    "    df[[\"P1x\", \"P2x\", \"C1x\", \"C2x\"]] -= xmin\n",
    "\n",
    "    ymin = df[[\"P1y\", \"P2y\", \"C1y\", \"C2y\"]].min().min()\n",
    "    df[[\"P1y\", \"P2y\", \"C1y\", \"C2y\"]] -= ymin\n",
    "\n",
    "    # make sure everything is less than xlim - 2*margin\n",
    "    xmax = df[[\"P1x\", \"P2x\", \"C1x\", \"C2x\"]].max().max()\n",
    "    xmul = (xlim-2*margin) / xmax\n",
    "\n",
    "    ymax = df[[\"P1y\", \"P2y\", \"C1y\", \"C2y\"]].max().max()\n",
    "    ymul = (ylim-2*margin) / ymax\n",
    "\n",
    "    df[[\"P1x\", \"P1y\", \"P2x\", \"P2y\", \"C1x\", \"C1y\", \"C2x\", \"C2y\"]] *= min(xmul, ymul)\n",
    "\n",
    "    # shift everything up by margin\n",
    "    df[[\"P1x\", \"P1y\", \"P2x\", \"P2y\", \"C1x\", \"C1y\", \"C2x\", \"C2y\"]] += margin\n",
    "    \n",
    "    \n",
    "    df[[\"P1x\", \"P2x\", \"C1x\", \"C2x\"]] += x0\n",
    "    df[[\"P1y\", \"P2y\", \"C1y\", \"C2y\"]] += y0\n",
    "\n",
    "    return df"
   ]
  },
  {
   "cell_type": "code",
   "execution_count": 6,
   "metadata": {
    "collapsed": true
   },
   "outputs": [],
   "source": [
    "def preview_objs(objs):\n",
    "    pygame.init()\n",
    "\n",
    "    canvas=pygame.display.set_mode((240,170),0,32)\n",
    "\n",
    "    white = (255, 255, 255)\n",
    "    black = (0, 0, 0)\n",
    "\n",
    "    canvas.fill(white)\n",
    "\n",
    "    for obj in objs:\n",
    "        obj.draw(canvas, black)\n",
    "\n",
    "    while True:\n",
    "        for event in pygame.event.get():\n",
    "            if event.type==QUIT:\n",
    "                pygame.quit()\n",
    "                return\n",
    "        pygame.display.update()"
   ]
  },
  {
   "cell_type": "code",
   "execution_count": 7,
   "metadata": {
    "collapsed": true,
    "scrolled": true
   },
   "outputs": [],
   "source": [
    "def paths_to_df(paths, xmin = 0, ymin = 0, xlim = 100., ylim = 100., margin = 5.):\n",
    "    df = pd.DataFrame()\n",
    "    # loop over paths in svg\n",
    "    for path in paths:\n",
    "        df = df.append(path_to_df(path))\n",
    "\n",
    "    df = clean_df(df) # make all coordinates absolute\n",
    "    df = normalize_df(df, xmin, ymin, xlim, ylim, margin) # make everything within bounds\n",
    "    \n",
    "    return df"
   ]
  },
  {
   "cell_type": "code",
   "execution_count": 8,
   "metadata": {
    "collapsed": true
   },
   "outputs": [],
   "source": [
    "def path_to_df(path):\n",
    "    records = split_path(path)\n",
    "    cols = [\"ins\", \"x\", \"y\", \"C1x\", \"C1y\", \"C2x\", \"C2y\"]\n",
    "    df = pd.DataFrame.from_records(records, columns = cols)\n",
    "        \n",
    "    return df"
   ]
  },
  {
   "cell_type": "code",
   "execution_count": 9,
   "metadata": {
    "collapsed": true
   },
   "outputs": [],
   "source": [
    "def df_to_objs(df):\n",
    "    objs = []\n",
    "\n",
    "    for _, row in df.iterrows():\n",
    "        if row[\"ins\"] == \"M\": # move\n",
    "            P2 = shapes.Point(*row[[\"P2x\", \"P2y\"]])\n",
    "            objs.append(P2)\n",
    "            \n",
    "        elif row[\"ins\"] == \"L\": # line\n",
    "            P1 = shapes.Point(*row[[\"P1x\", \"P1y\"]])\n",
    "            P2 = shapes.Point(*row[[\"P2x\", \"P2y\"]])\n",
    "            l = shapes.Line(P1, P2)\n",
    "            objs.append(l)\n",
    "            \n",
    "        elif row[\"ins\"] == \"C\": # curve\n",
    "            P1 = shapes.Point(*row[[\"P1x\", \"P1y\"]])\n",
    "            P2 = shapes.Point(*row[[\"P2x\", \"P2y\"]])\n",
    "            C1 = shapes.Point(*row[[\"C1x\", \"C1y\"]])\n",
    "            C2 = shapes.Point(*row[[\"C2x\", \"C2y\"]])\n",
    "            bez = shapes.CubicBezier(P1, C1, C2, P2)\n",
    "\n",
    "            # split curve if there is an inflection point\n",
    "            ip1, ip2 = bez.inflection_points()\n",
    "\n",
    "            if (ip1 == -1) and (ip2 != -1): # they are ordered\n",
    "                bez1, bez2 = bez.split_at(ip2)\n",
    "                objs.append(bez1)\n",
    "                objs.append(bez2)\n",
    "            elif (ip1 != -1) and (ip2 != -1): # split twice\n",
    "                bez1, bez2 = bez.split_at(ip1)\n",
    "                ip2 = (1 - ip1) * ip2\n",
    "                bez3, bez4 = bez2.split_at(ip2)\n",
    "                objs.append(bez1)\n",
    "                objs.append(bez3)\n",
    "                objs.append(bez4)\n",
    "            else:\n",
    "                objs.append(bez)\n",
    "            \n",
    "    return objs"
   ]
  },
  {
   "cell_type": "code",
   "execution_count": 10,
   "metadata": {
    "collapsed": true
   },
   "outputs": [],
   "source": [
    "def objs_to_plotter(objs, s):\n",
    "    # display objects and ask for confirmation\n",
    "    preview_objs(objs)\n",
    "    r = input(\"plot this? [y/N]\")\n",
    "    if r != \"y\":\n",
    "        return\n",
    "    \n",
    "    # if response was 'y', plot it\n",
    "    for obj in objs:\n",
    "        for line in obj.plot_instructions():\n",
    "            l = line + \"\\n\"\n",
    "            print('Sending: ' + l,)\n",
    "            s.write(l.encode('utf-8')) # Send g-code block to grbl\n",
    "            grbl_out = s.readline() # Wait for grbl response with carriage return\n",
    "            print(grbl_out.strip())"
   ]
  },
  {
   "cell_type": "code",
   "execution_count": 11,
   "metadata": {
    "collapsed": true
   },
   "outputs": [],
   "source": [
    "def wake_up_serial(port, baud):\n",
    "    # Open grbl serial port\n",
    "    s = serial.Serial(port, baud)\n",
    "\n",
    "    # Wake up grbl\n",
    "    s.write(b\"\\r\\n\\r\\n\")\n",
    "    time.sleep(3)   # Wait for grbl to initialize \n",
    "    s.flushInput()  # Flush startup text in serial input\n",
    "\n",
    "    s.write(b\"G21\\n\")   # units = mm\n",
    "    print(s.readline().strip())\n",
    "    s.write(b\"F5000\\n\") # feed rate\n",
    "    print(s.readline().strip())\n",
    "\n",
    "    s.write(b\"S0 M3\\n\") # pen slightly down\n",
    "    print(s.readline().strip())\n",
    "\n",
    "    s.write(b\"S0 M5\\n\") # pen up\n",
    "    print(s.readline().strip())\n",
    "    \n",
    "    return s"
   ]
  },
  {
   "cell_type": "code",
   "execution_count": 12,
   "metadata": {},
   "outputs": [],
   "source": [
    "# k_min = 0\n",
    "# k2_min = 0\n",
    "# mse_min = 1e10\n",
    "\n",
    "# k_step = 1e-7\n",
    "# k2_step = 1e-6\n",
    "# mse_step = 1e-2\n",
    "\n",
    "# P = shapes.Point(0, 0)\n",
    "\n",
    "# for k in np.arange(0.205155, 0.20517, k_step):\n",
    "#     for k2 in np.arange(1.33575, 1.3359, k2_step):\n",
    "#         S = shapes.SineWave(P = P, A = 1, n = 1, k = k, k2 = k2)\n",
    "\n",
    "#         bez = S.to_bezier2()\n",
    "\n",
    "#         mse = 0\n",
    "#         for t in np.arange(0, 1, mse_step):\n",
    "#             P1 = bez.point_at(t)\n",
    "#             P2 = S.point_at(P1.x)\n",
    "#             mse += (P1.y - P2.y)**2\n",
    "\n",
    "#         if mse < mse_min:\n",
    "#             mse_min = mse\n",
    "#             k_min = k\n",
    "#             k2_min = k2\n",
    "\n",
    "# print(k_min, k2_min, mse_min)"
   ]
  },
  {
   "cell_type": "code",
   "execution_count": 21,
   "metadata": {},
   "outputs": [],
   "source": [
    "P = shapes.Point(10, 60)\n",
    "S = shapes.SineWave(P = P, A = 40, n = 200)\n",
    "bez = S.to_bezier()\n",
    "\n",
    "c1, c2 = bez[0].to_biarc()\n",
    "c3, c4 = bez[1].to_biarc()\n",
    "c5, c6 = bez[2].to_biarc()\n",
    "c7, c8 = bez[3].to_biarc()"
   ]
  },
  {
   "cell_type": "code",
   "execution_count": 22,
   "metadata": {},
   "outputs": [
    {
     "ename": "KeyboardInterrupt",
     "evalue": "",
     "output_type": "error",
     "traceback": [
      "\u001b[0;31m---------------------------------------------------------------------------\u001b[0m",
      "\u001b[0;31mKeyboardInterrupt\u001b[0m                         Traceback (most recent call last)",
      "\u001b[0;32m<ipython-input-22-b33f60ac1fe6>\u001b[0m in \u001b[0;36m<module>\u001b[0;34m()\u001b[0m\n\u001b[0;32m----> 1\u001b[0;31m \u001b[0mpreview_objs\u001b[0m\u001b[0;34m(\u001b[0m\u001b[0;34m[\u001b[0m\u001b[0mc1\u001b[0m\u001b[0;34m,\u001b[0m \u001b[0mc2\u001b[0m\u001b[0;34m,\u001b[0m \u001b[0mc3\u001b[0m\u001b[0;34m,\u001b[0m \u001b[0mc4\u001b[0m\u001b[0;34m,\u001b[0m \u001b[0mc5\u001b[0m\u001b[0;34m,\u001b[0m \u001b[0mc6\u001b[0m\u001b[0;34m,\u001b[0m \u001b[0mc7\u001b[0m\u001b[0;34m,\u001b[0m \u001b[0mc8\u001b[0m\u001b[0;34m,\u001b[0m \u001b[0mS\u001b[0m\u001b[0;34m]\u001b[0m\u001b[0;34m)\u001b[0m\u001b[0;34m\u001b[0m\u001b[0m\n\u001b[0m",
      "\u001b[0;32m<ipython-input-6-cc49e20cf2a2>\u001b[0m in \u001b[0;36mpreview_objs\u001b[0;34m(objs)\u001b[0m\n\u001b[1;32m     13\u001b[0m \u001b[0;34m\u001b[0m\u001b[0m\n\u001b[1;32m     14\u001b[0m     \u001b[0;32mwhile\u001b[0m \u001b[0;32mTrue\u001b[0m\u001b[0;34m:\u001b[0m\u001b[0;34m\u001b[0m\u001b[0m\n\u001b[0;32m---> 15\u001b[0;31m         \u001b[0;32mfor\u001b[0m \u001b[0mevent\u001b[0m \u001b[0;32min\u001b[0m \u001b[0mpygame\u001b[0m\u001b[0;34m.\u001b[0m\u001b[0mevent\u001b[0m\u001b[0;34m.\u001b[0m\u001b[0mget\u001b[0m\u001b[0;34m(\u001b[0m\u001b[0;34m)\u001b[0m\u001b[0;34m:\u001b[0m\u001b[0;34m\u001b[0m\u001b[0m\n\u001b[0m\u001b[1;32m     16\u001b[0m             \u001b[0;32mif\u001b[0m \u001b[0mevent\u001b[0m\u001b[0;34m.\u001b[0m\u001b[0mtype\u001b[0m\u001b[0;34m==\u001b[0m\u001b[0mQUIT\u001b[0m\u001b[0;34m:\u001b[0m\u001b[0;34m\u001b[0m\u001b[0m\n\u001b[1;32m     17\u001b[0m                 \u001b[0mpygame\u001b[0m\u001b[0;34m.\u001b[0m\u001b[0mquit\u001b[0m\u001b[0;34m(\u001b[0m\u001b[0;34m)\u001b[0m\u001b[0;34m\u001b[0m\u001b[0m\n",
      "\u001b[0;31mKeyboardInterrupt\u001b[0m: "
     ]
    }
   ],
   "source": [
    "preview_objs([c1, c2, c3, c4, c5, c6, c7, c8, S])"
   ]
  },
  {
   "cell_type": "code",
   "execution_count": null,
   "metadata": {
    "collapsed": true,
    "scrolled": true
   },
   "outputs": [],
   "source": [
    "# # read svg and find paths\n",
    "# f = open(\"/Users/Bas/Desktop/db.svg\", \"r\")\n",
    "# svg = \"\".join(f.readlines())\n",
    "# paths = re.findall(r\"path\\s*d=\\\"(.+?)\\\"\", svg)\n",
    "\n",
    "# df = paths_to_df(paths, xmin = 0, ymin = 0, xlim = 100., ylim = 100., margin = 5.)\n",
    "# objs = df_to_objs(df)\n",
    "\n",
    "# s = wake_up_serial('/dev/tty.wchusbserial1420', 115200)\n",
    "\n",
    "# objs_to_plotter(objs, s)\n",
    "\n",
    "# s.write(b\"S0 M5\\n\") # pen up\n",
    "# print(s.readline())\n",
    "\n",
    "# s.write(b\"G00 X0 Y0\\n\") # go home\n",
    "# print(s.readline())\n",
    "\n",
    "# time.sleep(3)   # wait for everything to finish \n",
    "\n",
    "# # close serial port\n",
    "# s.close()"
   ]
  }
 ],
 "metadata": {
  "kernelspec": {
   "display_name": "Python 3",
   "language": "python",
   "name": "python3"
  },
  "language_info": {
   "codemirror_mode": {
    "name": "ipython",
    "version": 3
   },
   "file_extension": ".py",
   "mimetype": "text/x-python",
   "name": "python",
   "nbconvert_exporter": "python",
   "pygments_lexer": "ipython3",
   "version": "3.6.5"
  }
 },
 "nbformat": 4,
 "nbformat_minor": 2
}
