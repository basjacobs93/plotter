{
 "cells": [
  {
   "cell_type": "markdown",
   "metadata": {},
   "source": [
    "SVG Path instructions: https://www.w3schools.com/graphics/svg_path.asp\n",
    "Bezier curves to biarcs: http://dlacko.org/blog/2016/10/19/approximating-bezier-curves-by-biarcs/"
   ]
  },
  {
   "cell_type": "code",
   "execution_count": 2,
   "metadata": {
    "collapsed": true
   },
   "outputs": [],
   "source": [
    "import re\n",
    "import pandas as pd\n",
    "import numpy as np\n",
    "import math"
   ]
  },
  {
   "cell_type": "code",
   "execution_count": 3,
   "metadata": {
    "collapsed": true
   },
   "outputs": [],
   "source": [
    "# read svg and find paths\n",
    "f = open(\"picassodog.svg\", \"r\")\n",
    "svg = \"\".join(f.readlines())\n",
    "paths = re.findall(r\"path\\s*d=\\\"(.+?)\\\"\", svg)"
   ]
  },
  {
   "cell_type": "code",
   "execution_count": 4,
   "metadata": {
    "collapsed": true
   },
   "outputs": [],
   "source": [
    "# to keep track of how many parameters an instruction needs \n",
    "num_param = {\"m\": 2, \"l\": 2, \"h\": 1, \"v\": 1, \"z\": 0,\n",
    "            \"c\": 6, \"s\": 4, \"q\": 4, \"t\": 2, \"a\": 7}"
   ]
  },
  {
   "cell_type": "code",
   "execution_count": 5,
   "metadata": {
    "collapsed": true
   },
   "outputs": [],
   "source": [
    "# split svg path into its individual components\n",
    "def split_path(path):\n",
    "    ins = \"\"\n",
    "    \n",
    "    while len(path) > 0:\n",
    "        #print path\n",
    "        \n",
    "        # if the first element is a letter, it is the instruction\n",
    "        if path[0].isalpha():\n",
    "            ins = path[0]\n",
    "            path = path[1:]\n",
    "            path = path.strip()\n",
    "        \n",
    "        # get number of necessary parameters\n",
    "        n = str(num_param[ins.lower()])\n",
    "\n",
    "        # split into part for this instruction and rest\n",
    "        res = re.search(r\"((?:[\\-\\d\\.]+[\\s\\,]*){\"+n+\"})(.*)\", path)\n",
    "        \n",
    "        # collect parameters and the remaining path\n",
    "        params = res.group(1).strip()\n",
    "        path = res.group(2).strip()\n",
    "        \n",
    "        # split parameters into individual numbers\n",
    "        params = re.split(r\"[,\\s]\", params)\n",
    "        params = [float(p) for p in params]\n",
    "        \n",
    "        if ins == \"m\":\n",
    "            ins = \"M\"\n",
    "        \n",
    "        # reorder the parameters\n",
    "        yield [ins] + params[-2:] + params[:-2]"
   ]
  },
  {
   "cell_type": "code",
   "execution_count": 23,
   "metadata": {
    "collapsed": true
   },
   "outputs": [],
   "source": [
    "def is_clockwise(P1x, P1y, C1x, C1y, C2x, C2y, P2x, P2y):\n",
    "    sum = 0\n",
    "    sum += (C1x - P1x) * (C1y + P1y)\n",
    "    sum += (C2x - C1x) * (C2y + C1y)\n",
    "    sum += (P2x - C2x) * (P2y + C2y)\n",
    "    sum += (P1x - P2x) * (P1y + P2y)\n",
    "    return sum > 0\n",
    "\n",
    "def dist(ax, ay, bx, by):\n",
    "    return math.sqrt((ax-bx)**2 + (ay-by)**2)\n",
    "\n",
    "def intersection_point(P1x, P1y, C1x, C1y,\n",
    "                       P2x, P2y, C2x, C2y):\n",
    "    # calculates the intersection point of the lines through\n",
    "    # P1 and C1: t*P1 + (1-t) * C1\n",
    "    # P2 and C2: u*P2 + (1-u) * C2\n",
    "    # solution is based on simple algebra\n",
    "    a = P1x - C1x\n",
    "    b = P1y - C1y\n",
    "\n",
    "    u = (a*(C2y-C1y) - b*(C2x-C1x)) / (a*(C2y-P2y) - b*(C2x-P2x))\n",
    "    #t = (u*P2x + (1-u)*C2x - C1x) / (P1x-C1x)\n",
    "\n",
    "    Vx = u*P2x + (1-u)*C2x\n",
    "    Vy = u*P2y + (1-u)*C2y\n",
    "    \n",
    "    return Vx, Vy\n",
    "\n",
    "def cubic_bezier_to_circles(P1x, P1y, P2x, P2y, C1x, C1y, C2x, C2y):\n",
    "    # based on:\n",
    "    # http://dlacko.org/blog/2016/10/19/approximating-bezier-curves-by-biarcs/\n",
    "        \n",
    "    # calculate V: the intersection point of the line between P1 and C1 with the line between P2 and C2\n",
    "    Vx, Vy = intersection_point(P1x, P1y, C1x, C1y, P2x, P2y, C2x, C2y)\n",
    "\n",
    "    print(Vx, Vy)\n",
    "\n",
    "    # calculate G: the incenter point of the triangle P1, P2 and V\n",
    "    # https://en.wikipedia.org/wiki/Incenter#Cartesian_coordinates\n",
    "\n",
    "    # determine lengths of sides opposite the points\n",
    "    lP1 = dist(P2x, P2y, Vx, Vy)\n",
    "    lP2 = dist(P1x, P1y, Vx, Vy)\n",
    "    lV  = dist(P1x, P1y, P2x, P2y)\n",
    "\n",
    "    # the incenter point is the weighted average of the points with these lenghts\n",
    "    Gx = (lP1*P1x + lP2*P2x + lV*Vx) / (lP1 + lP2 + lV)\n",
    "    Gy = (lP1*P1y + lP2*P2y + lV*Vy) / (lP1 + lP2 + lV)\n",
    "\n",
    "    print(Gx, Gy)\n",
    "\n",
    "    # We know the tangent at P1.\n",
    "    # Q1 lies on the line which is perpendicular to this tangent\n",
    "    #  and goes through P1, let’s denote it by P1Q.\n",
    "    # If we take the section between P1 and G,\n",
    "    #  its perpendicular bisector (EQ1) intersects with P1Q at Q1.\n",
    "    # The same method can be used to find Q2.\n",
    "\n",
    "    # calculate the perpendicular bisectors\n",
    "    E1x = 0.5*P1x + 0.5*Gx\n",
    "    E1y = 0.5*P1y + 0.5*Gy\n",
    "\n",
    "    E2x = 0.5*P2x + 0.5*Gx\n",
    "    E2y = 0.5*P2y + 0.5*Gy\n",
    "    \n",
    "    print(E1x, E1y)\n",
    "    print(E2x, E2y)\n",
    "\n",
    "    # find a point on the line perpendicular to the tangent through P1\n",
    "    U1x = C1y - P1y\n",
    "    U1y = P1x - C1x\n",
    "    # the same for P2\n",
    "    U2x = C2y - P2y\n",
    "    U2y = P2x - C2x\n",
    "\n",
    "    # find a point on the perpendicular bisectors\n",
    "    T1x = E1x + (Gy - E1y)\n",
    "    T1y = E1y + (E1x - Gx)\n",
    "    # find a point on the perpendicular bisectors\n",
    "    T2x = E2x + (Gy - E2y)\n",
    "    T2y = E2y + (E2x - Gx)\n",
    "\n",
    "    # find the centers and radii of the circles by intersecting the lines\n",
    "    Q1x, Q1y = intersection_point(P1x, P1y, U1x, U1y,\n",
    "                                  E1x, E1y, T1x, T1y)\n",
    "    rad1 = dist(Q1x, Q1y, P1x, P1y)\n",
    "\n",
    "    Q2x, Q2y = intersection_point(P2x, P2y, U2x, U2y,\n",
    "                                  E2x, E2y, T2x, T2y)\n",
    "    rad2 = dist(Q2x, Q2y, P2x, P2y)\n",
    "    \n",
    "    cw = is_clockwise(P1x, P1y, C1x, C1y, C2x, C2y, P2x, P2y)\n",
    "    \n",
    "    return Q1x, Q1y, Q2x, Q2y, Gx, Gy, cw"
   ]
  },
  {
   "cell_type": "code",
   "execution_count": 24,
   "metadata": {
    "collapsed": true,
    "scrolled": true
   },
   "outputs": [],
   "source": [
    "def clean_df(df):\n",
    "    # flip y coordinates (we want (0,0) in the bottom left)\n",
    "    df[[\"y\", \"C1y\", \"C2y\"]] = -df[[\"y\", \"C1y\", \"C2y\"]]\n",
    "\n",
    "    # convert everything to absolute paths\n",
    "    df[\"is_abs\"] = df[\"ins\"].apply(lambda x: x.isupper())\n",
    "    df[\"group\"] = df[\"is_abs\"].cumsum()\n",
    "\n",
    "    # add the relative paths to the absolute paths\n",
    "    df[\"P2x\"] = df.groupby(\"group\").x.cumsum()\n",
    "    df[\"P2y\"] = df.groupby(\"group\").y.cumsum()\n",
    "\n",
    "    # shift y coordinate such that the origin is in (0,0)\n",
    "    df.loc[df[\"is_abs\"], \"C1y\"] -= df[\"P2y\"].min()\n",
    "    df.loc[df[\"is_abs\"], \"C2y\"] -= df[\"P2y\"].min()\n",
    "    df[\"P2y\"] -= df[\"P2y\"].min()\n",
    "\n",
    "    # add 'from' coordinates such that every row in the DataFrame is stand-alone\n",
    "    df[\"P1x\"] = df[\"P2x\"].shift(1)\n",
    "    df[\"P1y\"] = df[\"P2y\"].shift(1)\n",
    "    df.loc[0, \"P1x\"] = 0\n",
    "    df.loc[0, \"P1y\"] = 0\n",
    "\n",
    "    # make these absolute as well\n",
    "    df.loc[-df[\"is_abs\"], \"C1x\"] += df[\"P1x\"]\n",
    "    df.loc[-df[\"is_abs\"], \"C1y\"] += df[\"P1y\"]\n",
    "    df.loc[-df[\"is_abs\"], \"C2x\"] += df[\"P1x\"]\n",
    "    df.loc[-df[\"is_abs\"], \"C2y\"] += df[\"P1y\"]\n",
    "\n",
    "    # make sure that these are in uppercase\n",
    "    df[\"ins\"] = df[\"ins\"].str.upper()\n",
    "\n",
    "    df = df[[\"ins\", \"P1x\", \"P1y\", \"P2x\", \"P2y\", \"C1x\", \"C1y\", \"C2x\", \"C2y\"]]\n",
    "    \n",
    "    return df"
   ]
  },
  {
   "cell_type": "code",
   "execution_count": 25,
   "metadata": {
    "collapsed": true
   },
   "outputs": [],
   "source": [
    "def normalize_df(df, xlim = 100., ylim = 100., margin = 5.):\n",
    "    # make sure that x and y are between 0 and xlim, ylim\n",
    "    # with a margin\n",
    "    # make sure everything is larger than 0\n",
    "    xmin = df[[\"P1x\", \"P2x\", \"C1x\", \"C2x\"]].min().min()\n",
    "    df[[\"P1x\", \"P2x\", \"C1x\", \"C2x\"]] -= xmin\n",
    "\n",
    "    ymin = df[[\"P1y\", \"P2y\", \"C1y\", \"C2y\"]].min().min()\n",
    "    df[[\"P1y\", \"P2y\", \"C1y\", \"C2y\"]] -= ymin\n",
    "\n",
    "    # make sure everything is less than xlim - 2*margin\n",
    "    xmax = df[[\"P1x\", \"P2x\", \"C1x\", \"C2x\"]].max().max()\n",
    "    xmul = (xlim-2*margin) / xmax\n",
    "\n",
    "    ymax = df[[\"P1y\", \"P2y\", \"C1y\", \"C2y\"]].max().max()\n",
    "    ymul = (ylim-2*margin) / ymax\n",
    "\n",
    "    df[[\"P1x\", \"P1y\", \"P2x\", \"P2y\", \"C1x\", \"C1y\", \"C2x\", \"C2y\"]] *= min(xmul, ymul)\n",
    "\n",
    "    # shift everything up by margin\n",
    "    df[[\"P1x\", \"P1y\", \"P2x\", \"P2y\", \"C1x\", \"C1y\", \"C2x\", \"C2y\"]] += margin\n",
    "\n",
    "    return df"
   ]
  },
  {
   "cell_type": "code",
   "execution_count": 26,
   "metadata": {
    "collapsed": true
   },
   "outputs": [],
   "source": [
    "def path_to_df(path):\n",
    "    records = split_path(path)\n",
    "    cols = [\"ins\", \"x\", \"y\", \"C1x\", \"C1y\", \"C2x\", \"C2y\"]\n",
    "    df = pd.DataFrame.from_records(records, columns = cols)\n",
    "    \n",
    "    df = clean_df(df)\n",
    "    \n",
    "    df = normalize_df(df)\n",
    "    \n",
    "    return df"
   ]
  },
  {
   "cell_type": "code",
   "execution_count": 27,
   "metadata": {
    "collapsed": true,
    "scrolled": true
   },
   "outputs": [],
   "source": [
    "# loop over paths in svg\n",
    "for path in paths:\n",
    "    df = path_to_df(path)"
   ]
  },
  {
   "cell_type": "code",
   "execution_count": 28,
   "metadata": {},
   "outputs": [
    {
     "data": {
      "text/plain": [
       "P1x    28.7033\n",
       "P1y          5\n",
       "P2x    31.8048\n",
       "P2y    15.0393\n",
       "C1x    29.8584\n",
       "C1y    11.6205\n",
       "C2x    30.8922\n",
       "C2y    14.9669\n",
       "Name: 1, dtype: object"
      ]
     },
     "execution_count": 28,
     "metadata": {},
     "output_type": "execute_result"
    }
   ],
   "source": [
    "df.loc[1, [\"P1x\", \"P1y\", \"P2x\", \"P2y\", \"C1x\", \"C1y\", \"C2x\", \"C2y\"]]"
   ]
  },
  {
   "cell_type": "code",
   "execution_count": 30,
   "metadata": {},
   "outputs": [
    {
     "name": "stdout",
     "output_type": "stream",
     "text": [
      "(30.435910123764742, 14.930772331784166)\n",
      "(30.955908724883891, 14.359663955085685)\n",
      "(29.829585272797203, 9.6798319775428432)\n",
      "(31.38033359317814, 14.699481770710792)\n"
     ]
    },
    {
     "data": {
      "text/plain": [
       "(38.235152938146555,\n",
       " 7.656813195027623,\n",
       " 31.290666834045904,\n",
       " 14.811473551851121,\n",
       " 30.955908724883891,\n",
       " 14.359663955085685,\n",
       " True)"
      ]
     },
     "execution_count": 30,
     "metadata": {},
     "output_type": "execute_result"
    }
   ],
   "source": [
    "cubic_bezier_to_circles(*df.loc[1, [\"P1x\", \"P1y\", \"P2x\", \"P2y\", \"C1x\", \"C1y\", \"C2x\", \"C2y\"]])"
   ]
  },
  {
   "cell_type": "code",
   "execution_count": 76,
   "metadata": {},
   "outputs": [
    {
     "data": {
      "text/plain": [
       "<matplotlib.axes._subplots.AxesSubplot at 0x10ea3aad0>"
      ]
     },
     "execution_count": 76,
     "metadata": {},
     "output_type": "execute_result"
    },
    {
     "data": {
      "image/png": "[encoded data removed]",
      "text/plain": [
       "<matplotlib.figure.Figure at 0x10e969e50>"
      ]
     },
     "metadata": {},
     "output_type": "display_data"
    }
   ],
   "source": [
    "# preview\n",
    "%matplotlib inline\n",
    "df.plot.scatter(x = \"P1x\", y = \"P1y\")"
   ]
  },
  {
   "cell_type": "code",
   "execution_count": 80,
   "metadata": {},
   "outputs": [
    {
     "name": "stdout",
     "output_type": "stream",
     "text": [
      "G21\n",
      "> ok\n",
      "F1000\n",
      "> ok\n"
     ]
    }
   ],
   "source": [
    "import plotter\n",
    "\n",
    "# Open grbl serial port\n",
    "p = plotter.Plotter(port = '/dev/tty.wchusbserial1420',\n",
    "                    baud = 115200,\n",
    "                    speed = 1000)"
   ]
  },
  {
   "cell_type": "code",
   "execution_count": 86,
   "metadata": {},
   "outputs": [
    {
     "data": {
      "text/plain": [
       "P1x    79.0703\n",
       "P1y    14.2675\n",
       "P2x     80.307\n",
       "P2y    7.09014\n",
       "C1x     79.307\n",
       "C1y     11.718\n",
       "C2x    79.1476\n",
       "C2y    8.96809\n",
       "Name: 8, dtype: object"
      ]
     },
     "execution_count": 86,
     "metadata": {},
     "output_type": "execute_result"
    }
   ],
   "source": [
    "df.loc[8, [\"P1x\", \"P1y\", \"P2x\", \"P2y\", \"C1x\", \"C1y\", \"C2x\", \"C2y\"]]"
   ]
  },
  {
   "cell_type": "code",
   "execution_count": 78,
   "metadata": {
    "scrolled": true
   },
   "outputs": [
    {
     "name": "stdout",
     "output_type": "stream",
     "text": [
      "G01 X-28.7032618207 Y5.0\n",
      "> ok\n",
      "S1000 M3\n",
      "> ok\n",
      "\n",
      "G03 X-30.9559087249 Y14.3596639551 I-9.53189111744 J2.65681319503\n",
      "> ok\n",
      "G03 X-31.8047584615 Y15.0392995863 I-0.334758109162 J0.451809596765\n",
      "> ok\n",
      "\n",
      "G03 X-33.591113194 Y15.0816719888 I-0.882839411132 J0.457018347442\n",
      "> ok\n",
      "G03 X-35.2285910988 Y14.9307723022 I-0.78311238082 J-0.462049212782\n",
      "> ok\n",
      "\n",
      "G02 X-41.3446885523 Y14.2232473051 I-3.28210044714 J1.58302017646\n",
      "> ok\n",
      "G02 X-43.6882987921 Y14.2675312633 I-1.17809450777 J-0.310707080375\n",
      "> ok\n",
      "\n",
      "G03 X-44.6191918821 Y14.3215964243 I-0.45793913577 J0.15629503429\n",
      "> ok\n",
      "G03 X-53.8593813817 Y14.2675312633 I-4.61585914567 J-0.750932851222\n",
      "> ok\n",
      "\n",
      "G02 X-59.2979259184 Y14.8648387823 I-2.65462471632 J0.887276169133\n",
      "> ok\n",
      "G02 X-65.0457884377 Y15.8995844378 I-2.87567329873 J0.507696052484\n",
      "> ok\n",
      "\n",
      "G03 X-74.8717608852 Y17.9100217988 I-4.78686238488 J1.621646424\n",
      "> ok\n",
      "G03 X-75.5038730782 Y17.9356404526 I-0.317862499058 J-0.031761675573\n",
      "> ok\n",
      "\n",
      "G03 X-77.9261218074 Y16.7495051943 I-1.75187557358 J0.511219524988\n",
      "> ok\n",
      "G03 X-79.0703055607 Y14.2675312633 I4.27553710444 J-3.47573175981\n",
      "> ok\n",
      "\n",
      "G02 X-79.8662345104 Y8.25459527281 I67.4780159787 J-11.9911732904\n"
     ]
    },
    {
     "ename": "SerialException",
     "evalue": "read failed: [Errno 6] Device not configured",
     "output_type": "error",
     "traceback": [
      "\u001b[0;31m---------------------------------------------------------------------------\u001b[0m",
      "\u001b[0;31mSerialException\u001b[0m                           Traceback (most recent call last)",
      "\u001b[0;32m<ipython-input-78-12259f53e134>\u001b[0m in \u001b[0;36m<module>\u001b[0;34m()\u001b[0m\n\u001b[1;32m     12\u001b[0m \u001b[0;34m\u001b[0m\u001b[0m\n\u001b[1;32m     13\u001b[0m         \u001b[0;31m#print \"G02 X{} Y{} I{} J{}\".format(Gx, Gy, Q1x-P1x, Q1y-P1y)\u001b[0m\u001b[0;34m\u001b[0m\u001b[0;34m\u001b[0m\u001b[0m\n\u001b[0;32m---> 14\u001b[0;31m         \u001b[0mp\u001b[0m\u001b[0;34m.\u001b[0m\u001b[0marc\u001b[0m\u001b[0;34m(\u001b[0m\u001b[0mGx\u001b[0m\u001b[0;34m,\u001b[0m \u001b[0mGy\u001b[0m\u001b[0;34m,\u001b[0m \u001b[0mQ1x\u001b[0m\u001b[0;34m-\u001b[0m\u001b[0mP1x\u001b[0m\u001b[0;34m,\u001b[0m \u001b[0mQ1y\u001b[0m\u001b[0;34m-\u001b[0m\u001b[0mP1y\u001b[0m\u001b[0;34m,\u001b[0m \u001b[0mcw\u001b[0m\u001b[0;34m)\u001b[0m\u001b[0;34m\u001b[0m\u001b[0m\n\u001b[0m\u001b[1;32m     15\u001b[0m \u001b[0;34m\u001b[0m\u001b[0m\n\u001b[1;32m     16\u001b[0m         \u001b[0;31m# then from (Gx, Gy) to (P2x, P2y)\u001b[0m\u001b[0;34m\u001b[0m\u001b[0;34m\u001b[0m\u001b[0m\n",
      "\u001b[0;32m/Users/bas/Desktop/plotter.pyc\u001b[0m in \u001b[0;36marc\u001b[0;34m(self, x, y, i, j, cw)\u001b[0m\n\u001b[1;32m     56\u001b[0m             \u001b[0;32melse\u001b[0m\u001b[0;34m:\u001b[0m\u001b[0;34m\u001b[0m\u001b[0m\n\u001b[1;32m     57\u001b[0m                 \u001b[0mc\u001b[0m \u001b[0;34m=\u001b[0m \u001b[0;34m\"2\"\u001b[0m\u001b[0;34m\u001b[0m\u001b[0m\n\u001b[0;32m---> 58\u001b[0;31m             \u001b[0mself\u001b[0m\u001b[0;34m.\u001b[0m\u001b[0msend_command\u001b[0m\u001b[0;34m(\u001b[0m\u001b[0;34m\"G0{} X{} Y{} I{} J{}\"\u001b[0m\u001b[0;34m.\u001b[0m\u001b[0mformat\u001b[0m\u001b[0;34m(\u001b[0m\u001b[0mc\u001b[0m\u001b[0;34m,\u001b[0m \u001b[0;34m-\u001b[0m\u001b[0mx\u001b[0m\u001b[0;34m,\u001b[0m \u001b[0my\u001b[0m\u001b[0;34m,\u001b[0m \u001b[0;34m-\u001b[0m\u001b[0mi\u001b[0m\u001b[0;34m,\u001b[0m \u001b[0mj\u001b[0m\u001b[0;34m)\u001b[0m\u001b[0;34m)\u001b[0m\u001b[0;34m\u001b[0m\u001b[0m\n\u001b[0m\u001b[1;32m     59\u001b[0m \u001b[0;34m\u001b[0m\u001b[0m\n\u001b[1;32m     60\u001b[0m         \u001b[0;32mdef\u001b[0m \u001b[0mdraw_circle\u001b[0m\u001b[0;34m(\u001b[0m\u001b[0mself\u001b[0m\u001b[0;34m,\u001b[0m \u001b[0mx\u001b[0m\u001b[0;34m,\u001b[0m \u001b[0my\u001b[0m\u001b[0;34m,\u001b[0m \u001b[0mr\u001b[0m\u001b[0;34m)\u001b[0m\u001b[0;34m:\u001b[0m\u001b[0;34m\u001b[0m\u001b[0m\n",
      "\u001b[0;32m/Users/bas/Desktop/plotter.pyc\u001b[0m in \u001b[0;36msend_command\u001b[0;34m(self, cmd)\u001b[0m\n\u001b[1;32m     14\u001b[0m             \u001b[0;32mprint\u001b[0m \u001b[0ml\u001b[0m\u001b[0;34m\u001b[0m\u001b[0m\n\u001b[1;32m     15\u001b[0m             \u001b[0mself\u001b[0m\u001b[0;34m.\u001b[0m\u001b[0ms\u001b[0m\u001b[0;34m.\u001b[0m\u001b[0mwrite\u001b[0m\u001b[0;34m(\u001b[0m\u001b[0mcmd\u001b[0m \u001b[0;34m+\u001b[0m \u001b[0;34m\"\\n\"\u001b[0m\u001b[0;34m)\u001b[0m\u001b[0;34m\u001b[0m\u001b[0m\n\u001b[0;32m---> 16\u001b[0;31m             \u001b[0mgrbl_out\u001b[0m \u001b[0;34m=\u001b[0m \u001b[0mself\u001b[0m\u001b[0;34m.\u001b[0m\u001b[0ms\u001b[0m\u001b[0;34m.\u001b[0m\u001b[0mreadline\u001b[0m\u001b[0;34m(\u001b[0m\u001b[0;34m)\u001b[0m \u001b[0;31m# Wait for grbl response with carriage return\u001b[0m\u001b[0;34m\u001b[0m\u001b[0m\n\u001b[0m\u001b[1;32m     17\u001b[0m             \u001b[0;32mprint\u001b[0m \u001b[0;34m'> '\u001b[0m \u001b[0;34m+\u001b[0m \u001b[0mgrbl_out\u001b[0m\u001b[0;34m.\u001b[0m\u001b[0mstrip\u001b[0m\u001b[0;34m(\u001b[0m\u001b[0;34m)\u001b[0m\u001b[0;34m\u001b[0m\u001b[0m\n\u001b[1;32m     18\u001b[0m \u001b[0;34m\u001b[0m\u001b[0m\n",
      "\u001b[0;32m/Users/bas/anaconda2/lib/python2.7/site-packages/serial/serialposix.pyc\u001b[0m in \u001b[0;36mread\u001b[0;34m(self, size)\u001b[0m\n\u001b[1;32m    507\u001b[0m                 \u001b[0;31m# https://www.python.org/dev/peps/pep-0475.\u001b[0m\u001b[0;34m\u001b[0m\u001b[0;34m\u001b[0m\u001b[0m\n\u001b[1;32m    508\u001b[0m                 \u001b[0;32mif\u001b[0m \u001b[0me\u001b[0m\u001b[0;34m.\u001b[0m\u001b[0merrno\u001b[0m \u001b[0;32mnot\u001b[0m \u001b[0;32min\u001b[0m \u001b[0;34m(\u001b[0m\u001b[0merrno\u001b[0m\u001b[0;34m.\u001b[0m\u001b[0mEAGAIN\u001b[0m\u001b[0;34m,\u001b[0m \u001b[0merrno\u001b[0m\u001b[0;34m.\u001b[0m\u001b[0mEALREADY\u001b[0m\u001b[0;34m,\u001b[0m \u001b[0merrno\u001b[0m\u001b[0;34m.\u001b[0m\u001b[0mEWOULDBLOCK\u001b[0m\u001b[0;34m,\u001b[0m \u001b[0merrno\u001b[0m\u001b[0;34m.\u001b[0m\u001b[0mEINPROGRESS\u001b[0m\u001b[0;34m,\u001b[0m \u001b[0merrno\u001b[0m\u001b[0;34m.\u001b[0m\u001b[0mEINTR\u001b[0m\u001b[0;34m)\u001b[0m\u001b[0;34m:\u001b[0m\u001b[0;34m\u001b[0m\u001b[0m\n\u001b[0;32m--> 509\u001b[0;31m                     \u001b[0;32mraise\u001b[0m \u001b[0mSerialException\u001b[0m\u001b[0;34m(\u001b[0m\u001b[0;34m'read failed: {}'\u001b[0m\u001b[0;34m.\u001b[0m\u001b[0mformat\u001b[0m\u001b[0;34m(\u001b[0m\u001b[0me\u001b[0m\u001b[0;34m)\u001b[0m\u001b[0;34m)\u001b[0m\u001b[0;34m\u001b[0m\u001b[0m\n\u001b[0m\u001b[1;32m    510\u001b[0m             \u001b[0;32mexcept\u001b[0m \u001b[0mselect\u001b[0m\u001b[0;34m.\u001b[0m\u001b[0merror\u001b[0m \u001b[0;32mas\u001b[0m \u001b[0me\u001b[0m\u001b[0;34m:\u001b[0m\u001b[0;34m\u001b[0m\u001b[0m\n\u001b[1;32m    511\u001b[0m                 \u001b[0;31m# this is for Python 2.x\u001b[0m\u001b[0;34m\u001b[0m\u001b[0;34m\u001b[0m\u001b[0m\n",
      "\u001b[0;31mSerialException\u001b[0m: read failed: [Errno 6] Device not configured"
     ]
    }
   ],
   "source": [
    "for i, row in df.iterrows():\n",
    "    if row[\"ins\"] == \"M\":\n",
    "        #print \"G01 X{} Y{}\".format(*row[[\"P2x\", \"P2y\"]])\n",
    "        p.move(*row[[\"P2x\", \"P2y\"]])\n",
    "        p.pen_down()\n",
    "    elif row[\"ins\"] == \"C\":\n",
    "        P1x, P1y, P2x, P2y, C1x, C1y, C2x, C2y = row[[\"P1x\", \"P1y\", \"P2x\", \"P2y\", \"C1x\", \"C1y\", \"C2x\", \"C2y\"]]\n",
    "        Q1x, Q1y, Q2x, Q2y, Gx, Gy, cw = cubic_bezier_to_circles(P1x, P1y, P2x, P2y, C1x, C1y, C2x, C2y)\n",
    "        # first make a circle arc from (P1x, P1y) to (Gx, Gy)\n",
    "        # I,J are relative paths\n",
    "        \n",
    "        \n",
    "        #print \"G02 X{} Y{} I{} J{}\".format(Gx, Gy, Q1x-P1x, Q1y-P1y)\n",
    "        p.arc(Gx, Gy, Q1x-P1x, Q1y-P1y, cw)\n",
    "        \n",
    "        # then from (Gx, Gy) to (P2x, P2y)\n",
    "        #print \"G02 X{} Y{} I{} J{}\".format(P2x, P2y, Q2x-Gx, Q2y-Gy)\n",
    "        p.arc(P2x, P2y, Q2x-Gx, Q2y-Gy, cw)\n",
    "    else:\n",
    "        print row\n",
    "    a = raw_input()\n",
    "    if a == \"n\":\n",
    "        break"
   ]
  },
  {
   "cell_type": "code",
   "execution_count": 82,
   "metadata": {},
   "outputs": [
    {
     "name": "stdout",
     "output_type": "stream",
     "text": [
      "S0 M5\n"
     ]
    },
    {
     "ename": "SerialException",
     "evalue": "Attempting to use a port that is not open",
     "output_type": "error",
     "traceback": [
      "\u001b[0;31m---------------------------------------------------------------------------\u001b[0m",
      "\u001b[0;31mSerialException\u001b[0m                           Traceback (most recent call last)",
      "\u001b[0;32m<ipython-input-82-6821238d019f>\u001b[0m in \u001b[0;36m<module>\u001b[0;34m()\u001b[0m\n\u001b[1;32m      1\u001b[0m \u001b[0;31m# Close serial port\u001b[0m\u001b[0;34m\u001b[0m\u001b[0;34m\u001b[0m\u001b[0m\n\u001b[0;32m----> 2\u001b[0;31m \u001b[0mp\u001b[0m\u001b[0;34m.\u001b[0m\u001b[0mstop\u001b[0m\u001b[0;34m(\u001b[0m\u001b[0;34m)\u001b[0m\u001b[0;34m\u001b[0m\u001b[0m\n\u001b[0m",
      "\u001b[0;32m/Users/bas/Desktop/plotter.pyc\u001b[0m in \u001b[0;36mstop\u001b[0;34m(self)\u001b[0m\n\u001b[1;32m     68\u001b[0m \u001b[0;34m\u001b[0m\u001b[0m\n\u001b[1;32m     69\u001b[0m         \u001b[0;32mdef\u001b[0m \u001b[0mstop\u001b[0m\u001b[0;34m(\u001b[0m\u001b[0mself\u001b[0m\u001b[0;34m)\u001b[0m\u001b[0;34m:\u001b[0m\u001b[0;34m\u001b[0m\u001b[0m\n\u001b[0;32m---> 70\u001b[0;31m                 \u001b[0mself\u001b[0m\u001b[0;34m.\u001b[0m\u001b[0mpen_up\u001b[0m\u001b[0;34m(\u001b[0m\u001b[0;34m)\u001b[0m\u001b[0;34m\u001b[0m\u001b[0m\n\u001b[0m\u001b[1;32m     71\u001b[0m                 \u001b[0mself\u001b[0m\u001b[0;34m.\u001b[0m\u001b[0mmove_quick\u001b[0m\u001b[0;34m(\u001b[0m\u001b[0;36m0\u001b[0m\u001b[0;34m,\u001b[0m \u001b[0;36m0\u001b[0m\u001b[0;34m)\u001b[0m\u001b[0;34m\u001b[0m\u001b[0m\n\u001b[1;32m     72\u001b[0m                 \u001b[0mtime\u001b[0m\u001b[0;34m.\u001b[0m\u001b[0msleep\u001b[0m\u001b[0;34m(\u001b[0m\u001b[0;36m5\u001b[0m\u001b[0;34m)\u001b[0m\u001b[0;34m\u001b[0m\u001b[0m\n",
      "\u001b[0;32m/Users/bas/Desktop/plotter.pyc\u001b[0m in \u001b[0;36mpen_up\u001b[0;34m(self)\u001b[0m\n\u001b[1;32m     40\u001b[0m \u001b[0;34m\u001b[0m\u001b[0m\n\u001b[1;32m     41\u001b[0m         \u001b[0;32mdef\u001b[0m \u001b[0mpen_up\u001b[0m\u001b[0;34m(\u001b[0m\u001b[0mself\u001b[0m\u001b[0;34m)\u001b[0m\u001b[0;34m:\u001b[0m\u001b[0;34m\u001b[0m\u001b[0m\n\u001b[0;32m---> 42\u001b[0;31m             \u001b[0mself\u001b[0m\u001b[0;34m.\u001b[0m\u001b[0msend_command\u001b[0m\u001b[0;34m(\u001b[0m\u001b[0;34m\"S0 M5\"\u001b[0m\u001b[0;34m)\u001b[0m\u001b[0;34m\u001b[0m\u001b[0m\n\u001b[0m\u001b[1;32m     43\u001b[0m \u001b[0;34m\u001b[0m\u001b[0m\n\u001b[1;32m     44\u001b[0m         \u001b[0;32mdef\u001b[0m \u001b[0mset_unit\u001b[0m\u001b[0;34m(\u001b[0m\u001b[0mself\u001b[0m\u001b[0;34m)\u001b[0m\u001b[0;34m:\u001b[0m\u001b[0;34m\u001b[0m\u001b[0m\n",
      "\u001b[0;32m/Users/bas/Desktop/plotter.pyc\u001b[0m in \u001b[0;36msend_command\u001b[0;34m(self, cmd)\u001b[0m\n\u001b[1;32m     13\u001b[0m             \u001b[0ml\u001b[0m \u001b[0;34m=\u001b[0m \u001b[0mcmd\u001b[0m\u001b[0;34m.\u001b[0m\u001b[0mstrip\u001b[0m\u001b[0;34m(\u001b[0m\u001b[0;34m)\u001b[0m\u001b[0;34m\u001b[0m\u001b[0m\n\u001b[1;32m     14\u001b[0m             \u001b[0;32mprint\u001b[0m \u001b[0ml\u001b[0m\u001b[0;34m\u001b[0m\u001b[0m\n\u001b[0;32m---> 15\u001b[0;31m             \u001b[0mself\u001b[0m\u001b[0;34m.\u001b[0m\u001b[0ms\u001b[0m\u001b[0;34m.\u001b[0m\u001b[0mwrite\u001b[0m\u001b[0;34m(\u001b[0m\u001b[0mcmd\u001b[0m \u001b[0;34m+\u001b[0m \u001b[0;34m\"\\n\"\u001b[0m\u001b[0;34m)\u001b[0m\u001b[0;34m\u001b[0m\u001b[0m\n\u001b[0m\u001b[1;32m     16\u001b[0m             \u001b[0mgrbl_out\u001b[0m \u001b[0;34m=\u001b[0m \u001b[0mself\u001b[0m\u001b[0;34m.\u001b[0m\u001b[0ms\u001b[0m\u001b[0;34m.\u001b[0m\u001b[0mreadline\u001b[0m\u001b[0;34m(\u001b[0m\u001b[0;34m)\u001b[0m \u001b[0;31m# Wait for grbl response with carriage return\u001b[0m\u001b[0;34m\u001b[0m\u001b[0m\n\u001b[1;32m     17\u001b[0m             \u001b[0;32mprint\u001b[0m \u001b[0;34m'> '\u001b[0m \u001b[0;34m+\u001b[0m \u001b[0mgrbl_out\u001b[0m\u001b[0;34m.\u001b[0m\u001b[0mstrip\u001b[0m\u001b[0;34m(\u001b[0m\u001b[0;34m)\u001b[0m\u001b[0;34m\u001b[0m\u001b[0m\n",
      "\u001b[0;32m/Users/bas/anaconda2/lib/python2.7/site-packages/serial/serialposix.pyc\u001b[0m in \u001b[0;36mwrite\u001b[0;34m(self, data)\u001b[0m\n\u001b[1;32m    529\u001b[0m         \u001b[0;34m\"\"\"Output the given byte string over the serial port.\"\"\"\u001b[0m\u001b[0;34m\u001b[0m\u001b[0m\n\u001b[1;32m    530\u001b[0m         \u001b[0;32mif\u001b[0m \u001b[0;32mnot\u001b[0m \u001b[0mself\u001b[0m\u001b[0;34m.\u001b[0m\u001b[0mis_open\u001b[0m\u001b[0;34m:\u001b[0m\u001b[0;34m\u001b[0m\u001b[0m\n\u001b[0;32m--> 531\u001b[0;31m             \u001b[0;32mraise\u001b[0m \u001b[0mportNotOpenError\u001b[0m\u001b[0;34m\u001b[0m\u001b[0m\n\u001b[0m\u001b[1;32m    532\u001b[0m         \u001b[0md\u001b[0m \u001b[0;34m=\u001b[0m \u001b[0mto_bytes\u001b[0m\u001b[0;34m(\u001b[0m\u001b[0mdata\u001b[0m\u001b[0;34m)\u001b[0m\u001b[0;34m\u001b[0m\u001b[0m\n\u001b[1;32m    533\u001b[0m         \u001b[0mtx_len\u001b[0m \u001b[0;34m=\u001b[0m \u001b[0mlength\u001b[0m \u001b[0;34m=\u001b[0m \u001b[0mlen\u001b[0m\u001b[0;34m(\u001b[0m\u001b[0md\u001b[0m\u001b[0;34m)\u001b[0m\u001b[0;34m\u001b[0m\u001b[0m\n",
      "\u001b[0;31mSerialException\u001b[0m: Attempting to use a port that is not open"
     ]
    }
   ],
   "source": [
    "# Close serial port\n",
    "p.stop()"
   ]
  },
  {
   "cell_type": "code",
   "execution_count": 87,
   "metadata": {},
   "outputs": [
    {
     "ename": "ImportError",
     "evalue": "No module named pygame",
     "output_type": "error",
     "traceback": [
      "\u001b[0;31m---------------------------------------------------------------------------\u001b[0m",
      "\u001b[0;31mImportError\u001b[0m                               Traceback (most recent call last)",
      "\u001b[0;32m<ipython-input-87-4a415d16fbed>\u001b[0m in \u001b[0;36m<module>\u001b[0;34m()\u001b[0m\n\u001b[0;32m----> 1\u001b[0;31m \u001b[0;32mimport\u001b[0m \u001b[0mpygame\u001b[0m\u001b[0;34m\u001b[0m\u001b[0m\n\u001b[0m",
      "\u001b[0;31mImportError\u001b[0m: No module named pygame"
     ]
    }
   ],
   "source": [
    "import pygame"
   ]
  },
  {
   "cell_type": "code",
   "execution_count": null,
   "metadata": {
    "collapsed": true
   },
   "outputs": [],
   "source": []
  }
 ],
 "metadata": {
  "kernelspec": {
   "display_name": "Python 2",
   "language": "python",
   "name": "python2"
  },
  "language_info": {
   "codemirror_mode": {
    "name": "ipython",
    "version": 2
   },
   "file_extension": ".py",
   "mimetype": "text/x-python",
   "name": "python",
   "nbconvert_exporter": "python",
   "pygments_lexer": "ipython2",
   "version": "2.7.14"
  }
 },
 "nbformat": 4,
 "nbformat_minor": 2
}
